{
  "nbformat": 4,
  "nbformat_minor": 0,
  "metadata": {
    "colab": {
      "name": "Copia de TP.ipynb",
      "provenance": [],
      "collapsed_sections": [],
      "include_colab_link": true
    },
    "kernelspec": {
      "name": "python3",
      "display_name": "Python 3"
    },
    "language_info": {
      "name": "python"
    }
  },
  "cells": [
    {
      "cell_type": "markdown",
      "metadata": {
        "id": "view-in-github",
        "colab_type": "text"
      },
      "source": [
        "<a href=\"https://colab.research.google.com/github/XxProFetxX/Gama-Find/blob/master/Copia_de_TP.ipynb\" target=\"_parent\"><img src=\"https://colab.research.google.com/assets/colab-badge.svg\" alt=\"Open In Colab\"/></a>"
      ]
    },
    {
      "cell_type": "code",
      "metadata": {
        "colab": {
          "base_uri": "https://localhost:8080/"
        },
        "id": "MpK6dxz0BYi6",
        "outputId": "e863bbfd-cb2d-47bc-e0c3-06721926c904"
      },
      "source": [
        "!git clone https://github.com/lmcanavals/algorithmic_complexity.git\n"
      ],
      "execution_count": null,
      "outputs": [
        {
          "output_type": "stream",
          "text": [
            "Cloning into 'algorithmic_complexity'...\n",
            "remote: Enumerating objects: 268, done.\u001b[K\n",
            "remote: Counting objects: 100% (268/268), done.\u001b[K\n",
            "remote: Compressing objects: 100% (263/263), done.\u001b[K\n",
            "remote: Total 268 (delta 150), reused 0 (delta 0), pack-reused 0\u001b[K\n",
            "Receiving objects: 100% (268/268), 274.11 KiB | 5.48 MiB/s, done.\n",
            "Resolving deltas: 100% (150/150), done.\n"
          ],
          "name": "stdout"
        }
      ]
    },
    {
      "cell_type": "code",
      "metadata": {
        "id": "OH3irUnHBd1u"
      },
      "source": [
        "from algorithmic_complexity.aclib import graphstuff as gs"
      ],
      "execution_count": null,
      "outputs": []
    },
    {
      "cell_type": "code",
      "metadata": {
        "id": "pGG6zQdoBvkN"
      },
      "source": [
        "import pandas as pd\n",
        "import numpy as np\n",
        "import networkx as nx\n",
        "import math\n",
        "import heapq as hq"
      ],
      "execution_count": null,
      "outputs": []
    },
    {
      "cell_type": "code",
      "metadata": {
        "id": "jOq1Ck3wBw9Y"
      },
      "source": [
        "url=\"https://raw.githubusercontent.com/lmcanavals/algorithmic_complexity/main/data/poblaciones.csv\"\n",
        "poblacionesDF = pd.read_csv(url)"
      ],
      "execution_count": null,
      "outputs": []
    },
    {
      "cell_type": "code",
      "metadata": {
        "colab": {
          "base_uri": "https://localhost:8080/",
          "height": 221
        },
        "id": "z4NVnJFVBypY",
        "outputId": "2cc12242-f405-4680-d383-ea94a9d5c5c1"
      },
      "source": [
        "print(len(poblacionesDF))\n",
        "poblacionesDF.head()"
      ],
      "execution_count": null,
      "outputs": [
        {
          "output_type": "stream",
          "text": [
            "3757\n"
          ],
          "name": "stdout"
        },
        {
          "output_type": "execute_result",
          "data": {
            "text/html": [
              "<div>\n",
              "<style scoped>\n",
              "    .dataframe tbody tr th:only-of-type {\n",
              "        vertical-align: middle;\n",
              "    }\n",
              "\n",
              "    .dataframe tbody tr th {\n",
              "        vertical-align: top;\n",
              "    }\n",
              "\n",
              "    .dataframe thead th {\n",
              "        text-align: right;\n",
              "    }\n",
              "</style>\n",
              "<table border=\"1\" class=\"dataframe\">\n",
              "  <thead>\n",
              "    <tr style=\"text-align: right;\">\n",
              "      <th></th>\n",
              "      <th>DEPARTAMENTO</th>\n",
              "      <th>PROVINCIA</th>\n",
              "      <th>DISTRITO</th>\n",
              "      <th>CENTRO POBLADO</th>\n",
              "      <th>LATITUD</th>\n",
              "      <th>LONGITUD</th>\n",
              "      <th>NMI1</th>\n",
              "      <th>NMI2</th>\n",
              "    </tr>\n",
              "  </thead>\n",
              "  <tbody>\n",
              "    <tr>\n",
              "      <th>0</th>\n",
              "      <td>AMAZONAS</td>\n",
              "      <td>BAGUA</td>\n",
              "      <td>ARAMANGO</td>\n",
              "      <td>EL MUYO (C.P.L.)</td>\n",
              "      <td>-5.422545</td>\n",
              "      <td>-78.45299</td>\n",
              "      <td>311</td>\n",
              "      <td>1206</td>\n",
              "    </tr>\n",
              "    <tr>\n",
              "      <th>1</th>\n",
              "      <td>AMAZONAS</td>\n",
              "      <td>BAGUA</td>\n",
              "      <td>ARAMANGO</td>\n",
              "      <td>RESERVA UJUCANO</td>\n",
              "      <td>-5.427565</td>\n",
              "      <td>-78.444372</td>\n",
              "      <td>44</td>\n",
              "      <td>129</td>\n",
              "    </tr>\n",
              "    <tr>\n",
              "      <th>2</th>\n",
              "      <td>AMAZONAS</td>\n",
              "      <td>BAGUA</td>\n",
              "      <td>ARAMANGO</td>\n",
              "      <td>TUTUMBEROS</td>\n",
              "      <td>-5.327317</td>\n",
              "      <td>-78.44472</td>\n",
              "      <td>49</td>\n",
              "      <td>179</td>\n",
              "    </tr>\n",
              "    <tr>\n",
              "      <th>3</th>\n",
              "      <td>AMAZONAS</td>\n",
              "      <td>BAGUA</td>\n",
              "      <td>BAGUA</td>\n",
              "      <td>ALENYA BAJO</td>\n",
              "      <td>-5.682439</td>\n",
              "      <td>-78.495229</td>\n",
              "      <td>3</td>\n",
              "      <td>8</td>\n",
              "    </tr>\n",
              "    <tr>\n",
              "      <th>4</th>\n",
              "      <td>AMAZONAS</td>\n",
              "      <td>BONGARA</td>\n",
              "      <td>CUISPES</td>\n",
              "      <td>MITOPAMPA</td>\n",
              "      <td>-5.93856</td>\n",
              "      <td>-77.965302</td>\n",
              "      <td>1</td>\n",
              "      <td>4</td>\n",
              "    </tr>\n",
              "  </tbody>\n",
              "</table>\n",
              "</div>"
            ],
            "text/plain": [
              "  DEPARTAMENTO PROVINCIA  DISTRITO  ...    LONGITUD NMI1  NMI2\n",
              "0     AMAZONAS     BAGUA  ARAMANGO  ...   -78.45299  311  1206\n",
              "1     AMAZONAS     BAGUA  ARAMANGO  ...  -78.444372   44   129\n",
              "2     AMAZONAS     BAGUA  ARAMANGO  ...   -78.44472   49   179\n",
              "3     AMAZONAS     BAGUA     BAGUA  ...  -78.495229    3     8\n",
              "4     AMAZONAS   BONGARA   CUISPES  ...  -77.965302    1     4\n",
              "\n",
              "[5 rows x 8 columns]"
            ]
          },
          "metadata": {
            "tags": []
          },
          "execution_count": 6
        }
      ]
    },
    {
      "cell_type": "code",
      "metadata": {
        "colab": {
          "base_uri": "https://localhost:8080/"
        },
        "id": "7dYPf_NcDJvs",
        "outputId": "8b8924b8-75e2-422b-ed0e-14272aaed642"
      },
      "source": [
        "nomprovincias = poblacionesDF['PROVINCIA'].unique()\n",
        "print(len(nomprovincias))\n",
        "nomprovincias"
      ],
      "execution_count": null,
      "outputs": [
        {
          "output_type": "stream",
          "text": [
            "157\n"
          ],
          "name": "stdout"
        },
        {
          "output_type": "execute_result",
          "data": {
            "text/plain": [
              "array(['BAGUA', 'BONGARA', 'CHACHAPOYAS', 'UTCUBAMBA', 'ANTONIO RAYMONDI',\n",
              "       'BOLOGNESI', 'CARHUAZ', 'CASMA', 'HUARAZ', 'HUARI', 'HUAYLAS',\n",
              "       'OCROS', 'POMABAMBA', 'RECUAY', 'SANTA', 'SIHUAS', 'YUNGAY',\n",
              "       'ABANCAY', 'ANDAHUAYLAS', 'ANTABAMBA', 'AYMARAES', 'CHINCHEROS',\n",
              "       'GRAU', 'AREQUIPA', 'CAMANA', 'CARAVELI', 'CASTILLA', 'CAYLLOMA',\n",
              "       'CONDESUYOS', 'CANGALLO', 'HUAMANGA', 'HUANCA SANCOS', 'HUANTA',\n",
              "       'LUCANAS', 'PARINACOCHAS', 'VICTOR FAJARDO', 'CAJABAMBA',\n",
              "       'CAJAMARCA', 'CELENDIN', 'CHOTA', 'CONTUMAZA', 'CUTERVO', 'JAEN',\n",
              "       'SAN IGNACIO', 'SAN MARCOS', 'SAN MIGUEL', 'SAN MIMGUEL',\n",
              "       'SANTA CRUZ', 'ACOMAYO', 'CALCA', 'CANAS', 'CANCHIS',\n",
              "       'CHUMBIVILCAS', 'LA CONVENCION', 'PARURO', 'QUISPICANCHI',\n",
              "       'PROVINCIA', 'CASTROVIRREYNA', 'CHURCAMPA', 'HUANCAVELICA',\n",
              "       'HUAYTARA', 'TAYACAJA', 'AMBO', 'DOS DE MAYO', 'DOSDEMAYO',\n",
              "       'HUAMALIES', 'HUANUCO SANTA', 'HUANUCO', 'LAURICOCHA',\n",
              "       'LEONCIO PRADO', 'MARAÑON', 'PUERTO INCA', 'CHINCHA', 'ICA',\n",
              "       'NASCA', 'PALPA', 'PISCO', 'CHANCHAMAYO', 'CHUPACA', 'CONCEPCION',\n",
              "       'HUANCAYO', 'JAUJA', 'JUNIN', 'SATIPO', 'TARMA', 'ASCOPE',\n",
              "       'BOLIVAR', 'CHEPEN', 'GRAN CHIMU', 'JULCAN', 'OTUZCO', 'PACASMAYO',\n",
              "       'PATAZ', 'SANCHEZ CARRION', 'SANTIAGO DE CHUCO', 'TRUJILLO',\n",
              "       'VIRU', 'CHICLAYO', 'FERREÑAFE', 'LAMBAYEQUE', 'BARRANCA',\n",
              "       'CAJATAMBO', 'CAÑETE', 'HUARAL', 'HUAROCHIRI', 'HUAURA', 'LIMA',\n",
              "       'OYON', 'YAUYOS', 'ALTO AMAZONAS', 'LORETO',\n",
              "       'MARISCAL RAMON CASTILLA', 'MAYNAS', 'PUTUMAYO   10', 'REQUENA',\n",
              "       'UCAYALI', 'MANU', 'TAMBOPATA', 'GENERAL SANCHEZ CERRO',\n",
              "       'MARISCAL NIETO', 'DANIEL ALCIDES CARRION', 'OXAPAMPA', 'PASCO',\n",
              "       'AYABACA', 'HUANCABAMBA', 'MORROPON', 'PAITA', 'PIURA', 'SECHURA',\n",
              "       'SULLANA', 'TALARA', 'AZANGARO', 'CARABAYA', 'CHUCUITO',\n",
              "       'EL COLLAO', 'LAMPA', 'MELGAR', 'PUNO', 'SANDIA', 'BELLAVISTA',\n",
              "       'HUALLAGA', 'LAMAS', 'MARISCAL CACERES', 'MOYOBAMBA', 'PICOTA',\n",
              "       'RIOJA', 'SAN MARTIN', 'TOCACHE', 'CANDARAVE', 'JORGE BASADRE',\n",
              "       'TACNA', 'TARATA', 'CONTRALMIRANTE VILLAR', 'TUMBES', 'ZARUMILLA',\n",
              "       'CORONEL PORTILLO', 'PADRE ABAD'], dtype=object)"
            ]
          },
          "metadata": {
            "tags": []
          },
          "execution_count": 7
        }
      ]
    },
    {
      "cell_type": "code",
      "metadata": {
        "colab": {
          "base_uri": "https://localhost:8080/"
        },
        "id": "CMyjb13JDMF3",
        "outputId": "623a287b-a32c-47e3-dc5e-5e5616440090"
      },
      "source": [
        "provincias = dict()\n",
        "for nom in nomprovincias:\n",
        "  provincias[nom] = poblacionesDF[poblacionesDF['PROVINCIA'] == nom]\n",
        "  print(nom, len(provincias[nom]))"
      ],
      "execution_count": null,
      "outputs": [
        {
          "output_type": "stream",
          "text": [
            "BAGUA 4\n",
            "BONGARA 8\n",
            "CHACHAPOYAS 1\n",
            "UTCUBAMBA 12\n",
            "ANTONIO RAYMONDI 2\n",
            "BOLOGNESI 5\n",
            "CARHUAZ 20\n",
            "CASMA 14\n",
            "HUARAZ 38\n",
            "HUARI 20\n",
            "HUAYLAS 5\n",
            "OCROS 2\n",
            "POMABAMBA 21\n",
            "RECUAY 28\n",
            "SANTA 22\n",
            "SIHUAS 6\n",
            "YUNGAY 7\n",
            "ABANCAY 41\n",
            "ANDAHUAYLAS 8\n",
            "ANTABAMBA 2\n",
            "AYMARAES 23\n",
            "CHINCHEROS 12\n",
            "GRAU 1\n",
            "AREQUIPA 24\n",
            "CAMANA 16\n",
            "CARAVELI 16\n",
            "CASTILLA 1\n",
            "CAYLLOMA 20\n",
            "CONDESUYOS 3\n",
            "CANGALLO 20\n",
            "HUAMANGA 3\n",
            "HUANCA SANCOS 38\n",
            "HUANTA 7\n",
            "LUCANAS 92\n",
            "PARINACOCHAS 1\n",
            "VICTOR FAJARDO 29\n",
            "CAJABAMBA 10\n",
            "CAJAMARCA 13\n",
            "CELENDIN 16\n",
            "CHOTA 6\n",
            "CONTUMAZA 16\n",
            "CUTERVO 6\n",
            "JAEN 11\n",
            "SAN IGNACIO 2\n",
            "SAN MARCOS 2\n",
            "SAN MIGUEL 13\n",
            "SAN MIMGUEL 1\n",
            "SANTA CRUZ 1\n",
            "ACOMAYO 14\n",
            "CALCA 3\n",
            "CANAS 4\n",
            "CANCHIS 12\n",
            "CHUMBIVILCAS 3\n",
            "LA CONVENCION 13\n",
            "PARURO 14\n",
            "QUISPICANCHI 22\n",
            "PROVINCIA 1\n",
            "CASTROVIRREYNA 49\n",
            "CHURCAMPA 1\n",
            "HUANCAVELICA 6\n",
            "HUAYTARA 32\n",
            "TAYACAJA 1\n",
            "AMBO 37\n",
            "DOS DE MAYO 7\n",
            "DOSDEMAYO 1\n",
            "HUAMALIES 6\n",
            "HUANUCO SANTA 1\n",
            "HUANUCO 27\n",
            "LAURICOCHA 11\n",
            "LEONCIO PRADO 28\n",
            "MARAÑON 12\n",
            "PUERTO INCA 9\n",
            "CHINCHA 1\n",
            "ICA 60\n",
            "NASCA 6\n",
            "PALPA 30\n",
            "PISCO 14\n",
            "CHANCHAMAYO 14\n",
            "CHUPACA 13\n",
            "CONCEPCION 1\n",
            "HUANCAYO 13\n",
            "JAUJA 1\n",
            "JUNIN 2\n",
            "SATIPO 6\n",
            "TARMA 35\n",
            "ASCOPE 67\n",
            "BOLIVAR 15\n",
            "CHEPEN 82\n",
            "GRAN CHIMU 21\n",
            "JULCAN 1\n",
            "OTUZCO 2\n",
            "PACASMAYO 52\n",
            "PATAZ 8\n",
            "SANCHEZ CARRION 6\n",
            "SANTIAGO DE CHUCO 22\n",
            "TRUJILLO 68\n",
            "VIRU 1\n",
            "CHICLAYO 250\n",
            "FERREÑAFE 127\n",
            "LAMBAYEQUE 440\n",
            "BARRANCA 15\n",
            "CAJATAMBO 3\n",
            "CAÑETE 48\n",
            "HUARAL 27\n",
            "HUAROCHIRI 6\n",
            "HUAURA 23\n",
            "LIMA 2\n",
            "OYON 26\n",
            "YAUYOS 22\n",
            "ALTO AMAZONAS 7\n",
            "LORETO 23\n",
            "MARISCAL RAMON CASTILLA 23\n",
            "MAYNAS 70\n",
            "PUTUMAYO   10 3\n",
            "REQUENA 79\n",
            "UCAYALI 19\n",
            "MANU 4\n",
            "TAMBOPATA 1\n",
            "GENERAL SANCHEZ CERRO 25\n",
            "MARISCAL NIETO 24\n",
            "DANIEL ALCIDES CARRION 6\n",
            "OXAPAMPA 4\n",
            "PASCO 33\n",
            "AYABACA 13\n",
            "HUANCABAMBA 46\n",
            "MORROPON 102\n",
            "PAITA 20\n",
            "PIURA 185\n",
            "SECHURA 76\n",
            "SULLANA 56\n",
            "TALARA 6\n",
            "AZANGARO 4\n",
            "CARABAYA 36\n",
            "CHUCUITO 12\n",
            "EL COLLAO 4\n",
            "LAMPA 4\n",
            "MELGAR 7\n",
            "PUNO 5\n",
            "SANDIA 11\n",
            "BELLAVISTA 7\n",
            "HUALLAGA 3\n",
            "LAMAS 7\n",
            "MARISCAL CACERES 8\n",
            "MOYOBAMBA 9\n",
            "PICOTA 10\n",
            "RIOJA 9\n",
            "SAN MARTIN 6\n",
            "TOCACHE 9\n",
            "CANDARAVE 1\n",
            "JORGE BASADRE 7\n",
            "TACNA 11\n",
            "TARATA 14\n",
            "CONTRALMIRANTE VILLAR 15\n",
            "TUMBES 33\n",
            "ZARUMILLA 24\n",
            "CORONEL PORTILLO 159\n",
            "PADRE ABAD 4\n"
          ],
          "name": "stdout"
        }
      ]
    },
    {
      "cell_type": "code",
      "metadata": {
        "id": "85CVM1Abab5M"
      },
      "source": [
        ""
      ],
      "execution_count": null,
      "outputs": []
    },
    {
      "cell_type": "code",
      "metadata": {
        "id": "gHXuSqL6aYTw"
      },
      "source": [
        "\n",
        "#@title Provincia \n",
        "#@markdown Ingrese la provincia\n",
        "\n",
        "no_type_checking = ''\n",
        "nom_distrito = 'PASCO' #@param {type:\"string\"}"
      ],
      "execution_count": null,
      "outputs": []
    },
    {
      "cell_type": "code",
      "metadata": {
        "colab": {
          "base_uri": "https://localhost:8080/"
        },
        "id": "8nlSf0OhJTG_",
        "outputId": "221439b7-75b2-4759-ee3d-d6de80eac0cc"
      },
      "source": [
        "nomdistritos = provincias[nom_distrito]['DISTRITO'].unique()\n",
        "print(len(nomdistritos))\n",
        "nomdistritos"
      ],
      "execution_count": null,
      "outputs": [
        {
          "output_type": "stream",
          "text": [
            "6\n"
          ],
          "name": "stdout"
        },
        {
          "output_type": "execute_result",
          "data": {
            "text/plain": [
              "array(['HUACHON', 'HUARIACA', 'NINACACA', 'PAUCARTAMBO', 'TICLACAYAN',\n",
              "       'YANACANCHA'], dtype=object)"
            ]
          },
          "metadata": {
            "tags": []
          },
          "execution_count": 26
        }
      ]
    },
    {
      "cell_type": "code",
      "metadata": {
        "colab": {
          "base_uri": "https://localhost:8080/"
        },
        "id": "rjHJ4ay1JVUc",
        "outputId": "d5973234-a691-490f-d12b-61e4dbecf829"
      },
      "source": [
        "distritos = dict()\n",
        "provincia = provincias[nom_distrito]\n",
        "for nom in nomdistritos:\n",
        "  distritos[nom] = provincia[provincia['DISTRITO'] == nom]\n",
        "  print(nom, len(distritos[nom]))"
      ],
      "execution_count": null,
      "outputs": [
        {
          "output_type": "stream",
          "text": [
            "HUACHON 2\n",
            "HUARIACA 5\n",
            "NINACACA 1\n",
            "PAUCARTAMBO 11\n",
            "TICLACAYAN 5\n",
            "YANACANCHA 9\n"
          ],
          "name": "stdout"
        }
      ]
    },
    {
      "cell_type": "code",
      "metadata": {
        "id": "aXndgc4VJhKF"
      },
      "source": [
        "distrito = distritos['TICLACAYAN']\n",
        "pro = provincias['PACASMAYO']"
      ],
      "execution_count": null,
      "outputs": []
    },
    {
      "cell_type": "code",
      "metadata": {
        "id": "dOLAtdfaLGPE"
      },
      "source": [
        "def dist(cp1, cp2):\n",
        "  x1, y1 = float(cp1['LATITUD']), float(cp1['LONGITUD'])\n",
        "  x2, y2 = float(cp2['LATITUD']), float(cp2['LONGITUD'])\n",
        "\n",
        "  return math.sqrt((x1 - x2)**2 + (y1 - y2)**2)"
      ],
      "execution_count": null,
      "outputs": []
    },
    {
      "cell_type": "code",
      "metadata": {
        "id": "hMBTdnlEal1x"
      },
      "source": [
        "G = nx.Graph()\n",
        "col = 'CENTRO POBLADO'\n",
        "\n",
        "for i, cp1 in pro.iterrows():\n",
        "  for j, cp2 in pro.iterrows():\n",
        "    if cp1[col] != cp2[col]:\n",
        "      G.add_edge(cp1[col], cp2[col], weight=dist(cp1, cp2))"
      ],
      "execution_count": null,
      "outputs": []
    },
    {
      "cell_type": "code",
      "metadata": {
        "colab": {
          "base_uri": "https://localhost:8080/"
        },
        "id": "2J_OaTU_LLGL",
        "outputId": "da15acea-a422-46d6-b20d-e96fe8d52d00"
      },
      "source": [
        "for u in G.nodes:\n",
        "  G.nodes[u]['visited']= False\n",
        "  G.nodes[u]['path'] = ' '\n",
        "  G.nodes[u]['cost'] = -1.0\n",
        "nombre = 'CALERA'\n",
        "G.nodes[nombre]['cost'] = 0\n",
        "cola = [(0,nombre)]\n",
        "  \n",
        "menor = 0\n",
        "while cola:\n",
        "  _, n = hq.heappop(cola)\n",
        "  if not G.nodes[n]['visited']:\n",
        "\n",
        "    G.nodes[n]['visited'] = True\n",
        "\n",
        "  for v in G.neighbors(n):\n",
        "\n",
        "    if not G.nodes[v]['visited']:\n",
        "      costo = G.edges[n, v]['weight']\n",
        "\n",
        "      if G.nodes[v]['cost'] != -1 and costo < G.nodes[v]['cost']:\n",
        "        G.nodes[v]['cost'] = costo      \n",
        "        G.nodes[v]['path'] = n   \n",
        "        hq.heappush(cola,(costo,v))  \n",
        "\n",
        "      elif G.nodes[v]['cost'] == -1:\n",
        "        G.nodes[v]['cost'] = costo \n",
        "        G.nodes[v]['path'] = n\n",
        "        hq.heappush(cola,(costo,v))      \n",
        "  \n",
        "        \n",
        "          \n",
        "P = nx.Graph()      \n",
        "path = [0]*G.number_of_nodes()\n",
        "prueba =[()]\n",
        "for v, info in G.nodes.data():\n",
        "  hq.heappush(prueba,(v,info['visited'], info['cost'], info['path']))\n",
        "  P.add_edge(v,info['path'], weight = info['cost'])\n",
        "\n",
        "print(prueba)\n",
        "  "
      ],
      "execution_count": null,
      "outputs": [
        {
          "output_type": "stream",
          "text": [
            "[(), ('ALTO JEQUETEPEQUE', True, 0.012554282137976693, 'LAS CALABERAS'), ('CALERA', True, 0, ' '), ('ALTO PERU', True, 0.002380693176370002, 'EL HUABITO'), ('BRISAS DE PACASMAYO', True, 0.01606665571921207, 'SAN DEMETRIO'), ('CHAFAN GRANDE', True, 0.019162025075648938, 'MARISCAL CASTILLA'), ('EL HUABITO', True, 0.012438364040336937, 'SANJON MARINUÑEZ'), ('CULTAMBO', True, 0.018738926436686183, 'EL INFIERNILLO'), ('BOCA DEL RIO', True, 0.008204865020213016, 'SANTA MARTHA'), ('BUENOS AIRES', True, 0.03287400979497351, 'LA CONSTANCIA'), ('CALA', True, 0.038992689699480894, 'CAVOUR'), ('DIOS TEDE', True, 0.03826314595010774, 'BUENOS AIRES'), ('LACHE CHICO', True, 0.022576487791503154, 'JAGUEY (EL JAGUEY)'), ('LETANA', True, 0.013889867169989165, 'LACHE CHICO'), ('PLATANAR', True, 0.008588208951803697, 'LA JULIANA'), ('SANJON MARINUÑEZ', True, 0.014394689472163153, 'GUADALUPE'), ('EL INFIERNILLO', True, 0.016346237151105964, 'LAS VEGAS'), ('JAGUEY (EL JAGUEY)', True, 0.03636534819027649, 'CAVOUR'), ('CAMPO ARTURO', True, 0.008539682254044431, 'ALTO PERU'), ('LA CINTA', True, 0.024678977227595007, 'CALERA'), ('CASA BLANCA', True, 0.019952236591423513, 'LA CINTA'), ('CAVOUR', True, 0.03979703075608305, 'QUEBRACHO'), ('CHASCARRAPE', True, 0.017587829456755147, 'CALA'), ('EL HORNITO', True, 0.004395269843820136, 'CRUCE EL HORNITO'), ('LA CONSTANCIA', True, 0.02881210207534879, 'EL HORNITO'), ('MARISCAL CASTILLA', True, 0.01657135012604723, 'JORGE CHAVEZ'), ('LAS CALABERAS', True, 0.002431513931694524, 'LA PRIMAVERA'), ('PAMPILLA BAJA', True, 0.007380362660465555, 'SANJON MARINUÑEZ'), ('MONTE VERDE', True, 0.01548248300500304, 'SANTA APOLONIA'), ('PRIMER CAMPO', True, 0.002958823076832801, 'LA LAGUNA'), ('PUENTE ZAMBRANO', True, 0.006042149038213855, 'JEQUETEPEQUE'), ('SANTA APOLONIA', True, 0.007259067226578263, 'EL ALFALFARITO'), ('SANTA MARTHA', True, 0.0092248248221812, 'MONTE VERDE'), ('SEMAN', True, 0.0038577357348453492, 'CAMPO ARTURO'), ('GUADALUPE', True, 0.011081365484449709, 'LA CINTA'), ('JORGE CHAVEZ', True, 0.0014939789155094673, 'PRIMER CAMPO'), ('LAS VEGAS', True, 0.025219428958643438, 'CHAFAN GRANDE'), ('POTRERO', True, 0.01680547797594727, 'CULTAMBO'), ('QUEBRACHO', True, 0.010908597022530607, 'TECAPA'), ('SANTA MARIA DE TECAPA', True, 0.026778812987136177, 'EL INFIERNILLO'), ('TECAPA', True, 0.006778487515662847, 'POTRERO'), ('EL ALFALFARITO', True, 0.003145345926929992, 'LA VENTUROSA'), ('COLLIQUE', True, 0.004892859286762045, 'LETANA'), ('LA LAGUNA', True, 0.03558586282500491, 'CALERA'), ('JEQUETEPEQUE', True, 0.004298989765041732, 'EL ALFALFARITO'), ('LA JULIANA', True, 0.01710045136831298, 'COLLIQUE'), ('CRUCE EL HORNITO', True, 0.026178064481544108, 'CHASCARRAPE'), ('LAS BRISAS', True, 0.007331455858144902, 'MONTE VERDE'), ('LA PRIMAVERA', True, 0.0074415826273706446, 'PUENTE ZAMBRANO'), ('LA VENTUROSA', True, 0.010720050093166482, 'PLATANAR'), ('PUEBLO LIBRE', True, 0.015094631131630565, 'LA CONSTANCIA'), ('SAN DEMETRIO', True, 0.0128177201170882, 'PUEBLO LIBRE'), ('SANTA ELENA', True, 0.01308295027890059, 'DIOS TEDE')]\n"
          ],
          "name": "stdout"
        }
      ]
    },
    {
      "cell_type": "code",
      "metadata": {
        "id": "t8bTCfEL8z17"
      },
      "source": [
        "gs.nx2gv(G, weighted=True, params={'size':'30'})"
      ],
      "execution_count": null,
      "outputs": []
    },
    {
      "cell_type": "code",
      "metadata": {
        "colab": {
          "base_uri": "https://localhost:8080/",
          "height": 989
        },
        "id": "yOcILDzY82-s",
        "outputId": "e8a1ea7a-81bc-4e7c-e623-f822b57b2018"
      },
      "source": [
        "gs.nx2gv(P, weighted=True, params={'size':'30'})"
      ],
      "execution_count": null,
      "outputs": [
        {
          "output_type": "execute_result",
          "data": {
            "text/plain": [
              "<graphviz.dot.Graph at 0x7f5672e79f90>"
            ],
            "image/svg+xml": "<?xml version=\"1.0\" encoding=\"UTF-8\" standalone=\"no\"?>\n<!DOCTYPE svg PUBLIC \"-//W3C//DTD SVG 1.1//EN\"\n \"http://www.w3.org/Graphics/SVG/1.1/DTD/svg11.dtd\">\n<!-- Generated by graphviz version 2.40.1 (20161225.0304)\n -->\n<!-- Title: G Pages: 1 -->\n<svg width=\"2160pt\" height=\"711pt\"\n viewBox=\"0.00 0.00 2160.00 710.69\" xmlns=\"http://www.w3.org/2000/svg\" xmlns:xlink=\"http://www.w3.org/1999/xlink\">\n<g id=\"graph0\" class=\"graph\" transform=\"scale(.71 .71) rotate(0) translate(4 997)\">\n<title>G</title>\n<polygon fill=\"#ffffff\" stroke=\"transparent\" points=\"-4,4 -4,-997 3038.3431,-997 3038.3431,4 -4,4\"/>\n<!-- ALTO PERU -->\n<g id=\"node1\" class=\"node\">\n<title>ALTO PERU</title>\n<ellipse fill=\"none\" stroke=\"#000000\" cx=\"868.3431\" cy=\"-279\" rx=\"61.99\" ry=\"18\"/>\n<text text-anchor=\"middle\" x=\"868.3431\" y=\"-275.3\" font-family=\"Times,serif\" font-size=\"14.00\" fill=\"#000000\">ALTO PERU</text>\n</g>\n<!-- EL HUABITO -->\n<g id=\"node2\" class=\"node\">\n<title>EL HUABITO</title>\n<ellipse fill=\"none\" stroke=\"#000000\" cx=\"781.3431\" cy=\"-192\" rx=\"66.8882\" ry=\"18\"/>\n<text text-anchor=\"middle\" x=\"781.3431\" y=\"-188.3\" font-family=\"Times,serif\" font-size=\"14.00\" fill=\"#000000\">EL HUABITO</text>\n</g>\n<!-- ALTO PERU&#45;&#45;EL HUABITO -->\n<g id=\"edge1\" class=\"edge\">\n<title>ALTO PERU&#45;&#45;EL HUABITO</title>\n<path fill=\"none\" stroke=\"#000000\" d=\"M816.6918,-269.1299C802.5537,-263.8039 788.8078,-255.6084 780.3431,-243 773.9261,-233.4416 774.2843,-220.4394 776.1913,-209.9559\"/>\n<text text-anchor=\"middle\" x=\"853.8431\" y=\"-231.8\" font-family=\"Times,serif\" font-size=\"14.00\" fill=\"#000000\">0.002380693176370002</text>\n</g>\n<!-- CAMPO ARTURO -->\n<g id=\"node5\" class=\"node\">\n<title>CAMPO ARTURO</title>\n<ellipse fill=\"none\" stroke=\"#000000\" cx=\"953.3431\" cy=\"-192\" rx=\"85.2851\" ry=\"18\"/>\n<text text-anchor=\"middle\" x=\"953.3431\" y=\"-188.3\" font-family=\"Times,serif\" font-size=\"14.00\" fill=\"#000000\">CAMPO ARTURO</text>\n</g>\n<!-- ALTO PERU&#45;&#45;CAMPO ARTURO -->\n<g id=\"edge2\" class=\"edge\">\n<title>ALTO PERU&#45;&#45;CAMPO ARTURO</title>\n<path fill=\"none\" stroke=\"#000000\" d=\"M903.5995,-264.0639C913.5341,-258.5659 923.7031,-251.5465 931.3431,-243 939.6977,-233.6541 945.2404,-220.6486 948.6726,-210.1103\"/>\n<text text-anchor=\"middle\" x=\"1014.8431\" y=\"-231.8\" font-family=\"Times,serif\" font-size=\"14.00\" fill=\"#000000\">0.008539682254044431</text>\n</g>\n<!-- SANJON MARINUÑEZ -->\n<g id=\"node10\" class=\"node\">\n<title>SANJON MARINUÑEZ</title>\n<ellipse fill=\"none\" stroke=\"#000000\" cx=\"764.3431\" cy=\"-105\" rx=\"105.8812\" ry=\"18\"/>\n<text text-anchor=\"middle\" x=\"764.3431\" y=\"-101.3\" font-family=\"Times,serif\" font-size=\"14.00\" fill=\"#000000\">SANJON MARINUÑEZ</text>\n</g>\n<!-- EL HUABITO&#45;&#45;SANJON MARINUÑEZ -->\n<g id=\"edge3\" class=\"edge\">\n<title>EL HUABITO&#45;&#45;SANJON MARINUÑEZ</title>\n<path fill=\"none\" stroke=\"#000000\" d=\"M777.8207,-173.9735C774.9031,-159.0422 770.7774,-137.9283 767.861,-123.0034\"/>\n<text text-anchor=\"middle\" x=\"847.8431\" y=\"-144.8\" font-family=\"Times,serif\" font-size=\"14.00\" fill=\"#000000\">0.012438364040336937</text>\n</g>\n<!-- CALERA -->\n<g id=\"node3\" class=\"node\">\n<title>CALERA</title>\n<ellipse fill=\"none\" stroke=\"#000000\" cx=\"417.3431\" cy=\"-192\" rx=\"48.9926\" ry=\"18\"/>\n<text text-anchor=\"middle\" x=\"417.3431\" y=\"-188.3\" font-family=\"Times,serif\" font-size=\"14.00\" fill=\"#000000\">CALERA</text>\n</g>\n<!--   -->\n<g id=\"node4\" class=\"node\">\n<title> </title>\n<ellipse fill=\"none\" stroke=\"#000000\" cx=\"417.3431\" cy=\"-105\" rx=\"27\" ry=\"18\"/>\n<text text-anchor=\"middle\" x=\"417.3431\" y=\"-101.3\" font-family=\"Times,serif\" font-size=\"14.00\" fill=\"#000000\"> </text>\n</g>\n<!-- CALERA&#45;&#45;  -->\n<g id=\"edge4\" class=\"edge\">\n<title>CALERA&#45;&#45; </title>\n<path fill=\"none\" stroke=\"#000000\" d=\"M417.3431,-173.9735C417.3431,-159.0422 417.3431,-137.9283 417.3431,-123.0034\"/>\n<text text-anchor=\"middle\" x=\"421.3431\" y=\"-144.8\" font-family=\"Times,serif\" font-size=\"14.00\" fill=\"#000000\">0</text>\n</g>\n<!-- LA CINTA -->\n<g id=\"node7\" class=\"node\">\n<title>LA CINTA</title>\n<ellipse fill=\"none\" stroke=\"#000000\" cx=\"247.3431\" cy=\"-105\" rx=\"53.8905\" ry=\"18\"/>\n<text text-anchor=\"middle\" x=\"247.3431\" y=\"-101.3\" font-family=\"Times,serif\" font-size=\"14.00\" fill=\"#000000\">LA CINTA</text>\n</g>\n<!-- CALERA&#45;&#45;LA CINTA -->\n<g id=\"edge5\" class=\"edge\">\n<title>CALERA&#45;&#45;LA CINTA</title>\n<path fill=\"none\" stroke=\"#000000\" d=\"M371.1812,-185.8392C332.7067,-179.8493 281.7869,-169.6579 266.3431,-156 256.8588,-147.6124 252.0976,-134.0322 249.7136,-122.9935\"/>\n<text text-anchor=\"middle\" x=\"339.8431\" y=\"-144.8\" font-family=\"Times,serif\" font-size=\"14.00\" fill=\"#000000\">0.024678977227595007</text>\n</g>\n<!-- LA LAGUNA -->\n<g id=\"node14\" class=\"node\">\n<title>LA LAGUNA</title>\n<ellipse fill=\"none\" stroke=\"#000000\" cx=\"559.3431\" cy=\"-105\" rx=\"65.7887\" ry=\"18\"/>\n<text text-anchor=\"middle\" x=\"559.3431\" y=\"-101.3\" font-family=\"Times,serif\" font-size=\"14.00\" fill=\"#000000\">LA LAGUNA</text>\n</g>\n<!-- CALERA&#45;&#45;LA LAGUNA -->\n<g id=\"edge6\" class=\"edge\">\n<title>CALERA&#45;&#45;LA LAGUNA</title>\n<path fill=\"none\" stroke=\"#000000\" d=\"M423.4331,-173.6489C427.9148,-162.7541 435.0371,-149.4591 445.3431,-141 461.5465,-127.7003 482.7091,-119.2914 502.3956,-113.9842\"/>\n<text text-anchor=\"middle\" x=\"514.8431\" y=\"-144.8\" font-family=\"Times,serif\" font-size=\"14.00\" fill=\"#000000\">0.03558586282500491</text>\n</g>\n<!-- SEMAN -->\n<g id=\"node18\" class=\"node\">\n<title>SEMAN</title>\n<ellipse fill=\"none\" stroke=\"#000000\" cx=\"953.3431\" cy=\"-105\" rx=\"44.393\" ry=\"18\"/>\n<text text-anchor=\"middle\" x=\"953.3431\" y=\"-101.3\" font-family=\"Times,serif\" font-size=\"14.00\" fill=\"#000000\">SEMAN</text>\n</g>\n<!-- CAMPO ARTURO&#45;&#45;SEMAN -->\n<g id=\"edge7\" class=\"edge\">\n<title>CAMPO ARTURO&#45;&#45;SEMAN</title>\n<path fill=\"none\" stroke=\"#000000\" d=\"M953.3431,-173.9735C953.3431,-159.0422 953.3431,-137.9283 953.3431,-123.0034\"/>\n<text text-anchor=\"middle\" x=\"1030.3431\" y=\"-144.8\" font-family=\"Times,serif\" font-size=\"14.00\" fill=\"#000000\">0.0038577357348453492</text>\n</g>\n<!-- CASA BLANCA -->\n<g id=\"node6\" class=\"node\">\n<title>CASA BLANCA</title>\n<ellipse fill=\"none\" stroke=\"#000000\" cx=\"77.3431\" cy=\"-192\" rx=\"77.1866\" ry=\"18\"/>\n<text text-anchor=\"middle\" x=\"77.3431\" y=\"-188.3\" font-family=\"Times,serif\" font-size=\"14.00\" fill=\"#000000\">CASA BLANCA</text>\n</g>\n<!-- CASA BLANCA&#45;&#45;LA CINTA -->\n<g id=\"edge8\" class=\"edge\">\n<title>CASA BLANCA&#45;&#45;LA CINTA</title>\n<path fill=\"none\" stroke=\"#000000\" d=\"M83.0657,-173.9348C87.4682,-162.8676 94.6381,-149.2825 105.3431,-141 119.9768,-129.6779 163.8467,-119.5967 198.9923,-113.0032\"/>\n<text text-anchor=\"middle\" x=\"178.8431\" y=\"-144.8\" font-family=\"Times,serif\" font-size=\"14.00\" fill=\"#000000\">0.019952236591423513</text>\n</g>\n<!-- GUADALUPE -->\n<g id=\"node11\" class=\"node\">\n<title>GUADALUPE</title>\n<ellipse fill=\"none\" stroke=\"#000000\" cx=\"430.3431\" cy=\"-18\" rx=\"68.7879\" ry=\"18\"/>\n<text text-anchor=\"middle\" x=\"430.3431\" y=\"-14.3\" font-family=\"Times,serif\" font-size=\"14.00\" fill=\"#000000\">GUADALUPE</text>\n</g>\n<!-- LA CINTA&#45;&#45;GUADALUPE -->\n<g id=\"edge9\" class=\"edge\">\n<title>LA CINTA&#45;&#45;GUADALUPE</title>\n<path fill=\"none\" stroke=\"#000000\" d=\"M278.3866,-90.2416C311.3242,-74.5828 363.18,-49.93 396.976,-33.8631\"/>\n<text text-anchor=\"middle\" x=\"423.3431\" y=\"-57.8\" font-family=\"Times,serif\" font-size=\"14.00\" fill=\"#000000\">0.011081365484449709</text>\n</g>\n<!-- CHAFAN GRANDE -->\n<g id=\"node8\" class=\"node\">\n<title>CHAFAN GRANDE</title>\n<ellipse fill=\"none\" stroke=\"#000000\" cx=\"691.3431\" cy=\"-453\" rx=\"90.9839\" ry=\"18\"/>\n<text text-anchor=\"middle\" x=\"691.3431\" y=\"-449.3\" font-family=\"Times,serif\" font-size=\"14.00\" fill=\"#000000\">CHAFAN GRANDE</text>\n</g>\n<!-- MARISCAL CASTILLA -->\n<g id=\"node9\" class=\"node\">\n<title>MARISCAL CASTILLA</title>\n<ellipse fill=\"none\" stroke=\"#000000\" cx=\"606.3431\" cy=\"-366\" rx=\"107.4815\" ry=\"18\"/>\n<text text-anchor=\"middle\" x=\"606.3431\" y=\"-362.3\" font-family=\"Times,serif\" font-size=\"14.00\" fill=\"#000000\">MARISCAL CASTILLA</text>\n</g>\n<!-- CHAFAN GRANDE&#45;&#45;MARISCAL CASTILLA -->\n<g id=\"edge10\" class=\"edge\">\n<title>CHAFAN GRANDE&#45;&#45;MARISCAL CASTILLA</title>\n<path fill=\"none\" stroke=\"#000000\" d=\"M633.8581,-438.8391C623.4242,-433.6615 613.8136,-426.6064 607.3431,-417 601.0106,-407.5983 600.7606,-394.8483 602.0937,-384.4487\"/>\n<text text-anchor=\"middle\" x=\"680.8431\" y=\"-405.8\" font-family=\"Times,serif\" font-size=\"14.00\" fill=\"#000000\">0.019162025075648938</text>\n</g>\n<!-- LAS VEGAS -->\n<g id=\"node37\" class=\"node\">\n<title>LAS VEGAS</title>\n<ellipse fill=\"none\" stroke=\"#000000\" cx=\"850.3431\" cy=\"-366\" rx=\"63.0888\" ry=\"18\"/>\n<text text-anchor=\"middle\" x=\"850.3431\" y=\"-362.3\" font-family=\"Times,serif\" font-size=\"14.00\" fill=\"#000000\">LAS VEGAS</text>\n</g>\n<!-- CHAFAN GRANDE&#45;&#45;LAS VEGAS -->\n<g id=\"edge11\" class=\"edge\">\n<title>CHAFAN GRANDE&#45;&#45;LAS VEGAS</title>\n<path fill=\"none\" stroke=\"#000000\" d=\"M721.9962,-435.9624C732.3463,-430.0831 743.9164,-423.3715 754.3431,-417 764.7568,-410.6365 766.7403,-408.043 777.3431,-402 789.9884,-394.7929 804.2754,-387.5576 816.8361,-381.4834\"/>\n<text text-anchor=\"middle\" x=\"850.8431\" y=\"-405.8\" font-family=\"Times,serif\" font-size=\"14.00\" fill=\"#000000\">0.025219428958643438</text>\n</g>\n<!-- JORGE CHAVEZ -->\n<g id=\"node12\" class=\"node\">\n<title>JORGE CHAVEZ</title>\n<ellipse fill=\"none\" stroke=\"#000000\" cx=\"606.3431\" cy=\"-279\" rx=\"79.8859\" ry=\"18\"/>\n<text text-anchor=\"middle\" x=\"606.3431\" y=\"-275.3\" font-family=\"Times,serif\" font-size=\"14.00\" fill=\"#000000\">JORGE CHAVEZ</text>\n</g>\n<!-- MARISCAL CASTILLA&#45;&#45;JORGE CHAVEZ -->\n<g id=\"edge12\" class=\"edge\">\n<title>MARISCAL CASTILLA&#45;&#45;JORGE CHAVEZ</title>\n<path fill=\"none\" stroke=\"#000000\" d=\"M606.3431,-347.9735C606.3431,-333.0422 606.3431,-311.9283 606.3431,-297.0034\"/>\n<text text-anchor=\"middle\" x=\"675.8431\" y=\"-318.8\" font-family=\"Times,serif\" font-size=\"14.00\" fill=\"#000000\">0.01657135012604723</text>\n</g>\n<!-- SANJON MARINUÑEZ&#45;&#45;GUADALUPE -->\n<g id=\"edge14\" class=\"edge\">\n<title>SANJON MARINUÑEZ&#45;&#45;GUADALUPE</title>\n<path fill=\"none\" stroke=\"#000000\" d=\"M701.0288,-90.4665C673.9606,-84.1079 642.045,-76.418 613.3431,-69 566.5623,-56.9094 513.3933,-41.955 476.4678,-31.374\"/>\n<text text-anchor=\"middle\" x=\"686.8431\" y=\"-57.8\" font-family=\"Times,serif\" font-size=\"14.00\" fill=\"#000000\">0.014394689472163153</text>\n</g>\n<!-- PAMPILLA BAJA -->\n<g id=\"node17\" class=\"node\">\n<title>PAMPILLA BAJA</title>\n<ellipse fill=\"none\" stroke=\"#000000\" cx=\"764.3431\" cy=\"-18\" rx=\"82.5854\" ry=\"18\"/>\n<text text-anchor=\"middle\" x=\"764.3431\" y=\"-14.3\" font-family=\"Times,serif\" font-size=\"14.00\" fill=\"#000000\">PAMPILLA BAJA</text>\n</g>\n<!-- SANJON MARINUÑEZ&#45;&#45;PAMPILLA BAJA -->\n<g id=\"edge13\" class=\"edge\">\n<title>SANJON MARINUÑEZ&#45;&#45;PAMPILLA BAJA</title>\n<path fill=\"none\" stroke=\"#000000\" d=\"M764.3431,-86.9735C764.3431,-72.0422 764.3431,-50.9283 764.3431,-36.0034\"/>\n<text text-anchor=\"middle\" x=\"837.8431\" y=\"-57.8\" font-family=\"Times,serif\" font-size=\"14.00\" fill=\"#000000\">0.007380362660465555</text>\n</g>\n<!-- PRIMER CAMPO -->\n<g id=\"node13\" class=\"node\">\n<title>PRIMER CAMPO</title>\n<ellipse fill=\"none\" stroke=\"#000000\" cx=\"607.3431\" cy=\"-192\" rx=\"81.7856\" ry=\"18\"/>\n<text text-anchor=\"middle\" x=\"607.3431\" y=\"-188.3\" font-family=\"Times,serif\" font-size=\"14.00\" fill=\"#000000\">PRIMER CAMPO</text>\n</g>\n<!-- JORGE CHAVEZ&#45;&#45;PRIMER CAMPO -->\n<g id=\"edge15\" class=\"edge\">\n<title>JORGE CHAVEZ&#45;&#45;PRIMER CAMPO</title>\n<path fill=\"none\" stroke=\"#000000\" d=\"M606.5503,-260.9735C606.722,-246.0422 606.9647,-224.9283 607.1362,-210.0034\"/>\n<text text-anchor=\"middle\" x=\"684.3431\" y=\"-231.8\" font-family=\"Times,serif\" font-size=\"14.00\" fill=\"#000000\">0.0014939789155094673</text>\n</g>\n<!-- PRIMER CAMPO&#45;&#45;LA LAGUNA -->\n<g id=\"edge16\" class=\"edge\">\n<title>PRIMER CAMPO&#45;&#45;LA LAGUNA</title>\n<path fill=\"none\" stroke=\"#000000\" d=\"M602.1758,-173.9072C598.9262,-163.8635 594.2315,-151.3472 588.3431,-141 584.6912,-134.5828 579.9188,-128.1285 575.3028,-122.4926\"/>\n<text text-anchor=\"middle\" x=\"669.8431\" y=\"-144.8\" font-family=\"Times,serif\" font-size=\"14.00\" fill=\"#000000\">0.002958823076832801</text>\n</g>\n<!-- LAS BRISAS -->\n<g id=\"node15\" class=\"node\">\n<title>LAS BRISAS</title>\n<ellipse fill=\"none\" stroke=\"#000000\" cx=\"2654.3431\" cy=\"-975\" rx=\"64.189\" ry=\"18\"/>\n<text text-anchor=\"middle\" x=\"2654.3431\" y=\"-971.3\" font-family=\"Times,serif\" font-size=\"14.00\" fill=\"#000000\">LAS BRISAS</text>\n</g>\n<!-- MONTE VERDE -->\n<g id=\"node16\" class=\"node\">\n<title>MONTE VERDE</title>\n<ellipse fill=\"none\" stroke=\"#000000\" cx=\"2654.3431\" cy=\"-888\" rx=\"78.7863\" ry=\"18\"/>\n<text text-anchor=\"middle\" x=\"2654.3431\" y=\"-884.3\" font-family=\"Times,serif\" font-size=\"14.00\" fill=\"#000000\">MONTE VERDE</text>\n</g>\n<!-- LAS BRISAS&#45;&#45;MONTE VERDE -->\n<g id=\"edge17\" class=\"edge\">\n<title>LAS BRISAS&#45;&#45;MONTE VERDE</title>\n<path fill=\"none\" stroke=\"#000000\" d=\"M2654.3431,-956.9735C2654.3431,-942.0422 2654.3431,-920.9283 2654.3431,-906.0034\"/>\n<text text-anchor=\"middle\" x=\"2727.8431\" y=\"-927.8\" font-family=\"Times,serif\" font-size=\"14.00\" fill=\"#000000\">0.007331455858144902</text>\n</g>\n<!-- SANTA MARTHA -->\n<g id=\"node22\" class=\"node\">\n<title>SANTA MARTHA</title>\n<ellipse fill=\"none\" stroke=\"#000000\" cx=\"2789.3431\" cy=\"-801\" rx=\"84.485\" ry=\"18\"/>\n<text text-anchor=\"middle\" x=\"2789.3431\" y=\"-797.3\" font-family=\"Times,serif\" font-size=\"14.00\" fill=\"#000000\">SANTA MARTHA</text>\n</g>\n<!-- MONTE VERDE&#45;&#45;SANTA MARTHA -->\n<g id=\"edge19\" class=\"edge\">\n<title>MONTE VERDE&#45;&#45;SANTA MARTHA</title>\n<path fill=\"none\" stroke=\"#000000\" d=\"M2688.2377,-871.5959C2699.3515,-865.8148 2711.5998,-859.0018 2722.3431,-852 2731.3567,-846.1256 2732.8167,-843.5615 2741.3431,-837 2749.2682,-830.9013 2757.9994,-824.3141 2765.8178,-818.4625\"/>\n<text text-anchor=\"middle\" x=\"2807.3431\" y=\"-840.8\" font-family=\"Times,serif\" font-size=\"14.00\" fill=\"#000000\">0.0092248248221812</text>\n</g>\n<!-- SANTA APOLONIA -->\n<g id=\"node34\" class=\"node\">\n<title>SANTA APOLONIA</title>\n<ellipse fill=\"none\" stroke=\"#000000\" cx=\"2537.3431\" cy=\"-801\" rx=\"91.784\" ry=\"18\"/>\n<text text-anchor=\"middle\" x=\"2537.3431\" y=\"-797.3\" font-family=\"Times,serif\" font-size=\"14.00\" fill=\"#000000\">SANTA APOLONIA</text>\n</g>\n<!-- MONTE VERDE&#45;&#45;SANTA APOLONIA -->\n<g id=\"edge18\" class=\"edge\">\n<title>MONTE VERDE&#45;&#45;SANTA APOLONIA</title>\n<path fill=\"none\" stroke=\"#000000\" d=\"M2616.6944,-872.1187C2605.4512,-866.5483 2593.4414,-859.7259 2583.3431,-852 2571.0322,-842.5811 2559.3624,-829.5768 2550.8572,-819.0573\"/>\n<text text-anchor=\"middle\" x=\"2652.8431\" y=\"-840.8\" font-family=\"Times,serif\" font-size=\"14.00\" fill=\"#000000\">0.01548248300500304</text>\n</g>\n<!-- ALTO JEQUETEPEQUE -->\n<g id=\"node19\" class=\"node\">\n<title>ALTO JEQUETEPEQUE</title>\n<ellipse fill=\"none\" stroke=\"#000000\" cx=\"1902.3431\" cy=\"-975\" rx=\"108.5808\" ry=\"18\"/>\n<text text-anchor=\"middle\" x=\"1902.3431\" y=\"-971.3\" font-family=\"Times,serif\" font-size=\"14.00\" fill=\"#000000\">ALTO JEQUETEPEQUE</text>\n</g>\n<!-- LAS CALABERAS -->\n<g id=\"node20\" class=\"node\">\n<title>LAS CALABERAS</title>\n<ellipse fill=\"none\" stroke=\"#000000\" cx=\"1902.3431\" cy=\"-888\" rx=\"87.9851\" ry=\"18\"/>\n<text text-anchor=\"middle\" x=\"1902.3431\" y=\"-884.3\" font-family=\"Times,serif\" font-size=\"14.00\" fill=\"#000000\">LAS CALABERAS</text>\n</g>\n<!-- ALTO JEQUETEPEQUE&#45;&#45;LAS CALABERAS -->\n<g id=\"edge20\" class=\"edge\">\n<title>ALTO JEQUETEPEQUE&#45;&#45;LAS CALABERAS</title>\n<path fill=\"none\" stroke=\"#000000\" d=\"M1902.3431,-956.9735C1902.3431,-942.0422 1902.3431,-920.9283 1902.3431,-906.0034\"/>\n<text text-anchor=\"middle\" x=\"1975.8431\" y=\"-927.8\" font-family=\"Times,serif\" font-size=\"14.00\" fill=\"#000000\">0.012554282137976693</text>\n</g>\n<!-- LA PRIMAVERA -->\n<g id=\"node29\" class=\"node\">\n<title>LA PRIMAVERA</title>\n<ellipse fill=\"none\" stroke=\"#000000\" cx=\"2062.3431\" cy=\"-801\" rx=\"79.8859\" ry=\"18\"/>\n<text text-anchor=\"middle\" x=\"2062.3431\" y=\"-797.3\" font-family=\"Times,serif\" font-size=\"14.00\" fill=\"#000000\">LA PRIMAVERA</text>\n</g>\n<!-- LAS CALABERAS&#45;&#45;LA PRIMAVERA -->\n<g id=\"edge21\" class=\"edge\">\n<title>LAS CALABERAS&#45;&#45;LA PRIMAVERA</title>\n<path fill=\"none\" stroke=\"#000000\" d=\"M1897.5453,-869.583C1895.9253,-858.9359 1896.0695,-845.9238 1903.3431,-837 1905.0195,-834.9433 1959.3197,-822.9371 2003.9997,-813.3472\"/>\n<text text-anchor=\"middle\" x=\"1976.8431\" y=\"-840.8\" font-family=\"Times,serif\" font-size=\"14.00\" fill=\"#000000\">0.002431513931694524</text>\n</g>\n<!-- BOCA DEL RIO -->\n<g id=\"node21\" class=\"node\">\n<title>BOCA DEL RIO</title>\n<ellipse fill=\"none\" stroke=\"#000000\" cx=\"2899.3431\" cy=\"-888\" rx=\"75.2868\" ry=\"18\"/>\n<text text-anchor=\"middle\" x=\"2899.3431\" y=\"-884.3\" font-family=\"Times,serif\" font-size=\"14.00\" fill=\"#000000\">BOCA DEL RIO</text>\n</g>\n<!-- BOCA DEL RIO&#45;&#45;SANTA MARTHA -->\n<g id=\"edge22\" class=\"edge\">\n<title>BOCA DEL RIO&#45;&#45;SANTA MARTHA</title>\n<path fill=\"none\" stroke=\"#000000\" d=\"M2895.2533,-869.9697C2891.9936,-859.1956 2886.4284,-845.9148 2877.3431,-837 2867.6819,-827.52 2855.181,-820.4195 2842.651,-815.1468\"/>\n<text text-anchor=\"middle\" x=\"2960.8431\" y=\"-840.8\" font-family=\"Times,serif\" font-size=\"14.00\" fill=\"#000000\">0.008204865020213016</text>\n</g>\n<!-- COLLIQUE -->\n<g id=\"node23\" class=\"node\">\n<title>COLLIQUE</title>\n<ellipse fill=\"none\" stroke=\"#000000\" cx=\"1626.3431\" cy=\"-888\" rx=\"57.6901\" ry=\"18\"/>\n<text text-anchor=\"middle\" x=\"1626.3431\" y=\"-884.3\" font-family=\"Times,serif\" font-size=\"14.00\" fill=\"#000000\">COLLIQUE</text>\n</g>\n<!-- LETANA -->\n<g id=\"node24\" class=\"node\">\n<title>LETANA</title>\n<ellipse fill=\"none\" stroke=\"#000000\" cx=\"1541.3431\" cy=\"-801\" rx=\"48.1917\" ry=\"18\"/>\n<text text-anchor=\"middle\" x=\"1541.3431\" y=\"-797.3\" font-family=\"Times,serif\" font-size=\"14.00\" fill=\"#000000\">LETANA</text>\n</g>\n<!-- COLLIQUE&#45;&#45;LETANA -->\n<g id=\"edge23\" class=\"edge\">\n<title>COLLIQUE&#45;&#45;LETANA</title>\n<path fill=\"none\" stroke=\"#000000\" d=\"M1578.0118,-877.8575C1564.2135,-872.5094 1550.6749,-864.3699 1542.3431,-852 1535.9116,-842.4514 1535.7542,-829.449 1537.1573,-818.963\"/>\n<text text-anchor=\"middle\" x=\"1615.8431\" y=\"-840.8\" font-family=\"Times,serif\" font-size=\"14.00\" fill=\"#000000\">0.004892859286762045</text>\n</g>\n<!-- LA JULIANA -->\n<g id=\"node28\" class=\"node\">\n<title>LA JULIANA</title>\n<ellipse fill=\"none\" stroke=\"#000000\" cx=\"1711.3431\" cy=\"-801\" rx=\"64.9885\" ry=\"18\"/>\n<text text-anchor=\"middle\" x=\"1711.3431\" y=\"-797.3\" font-family=\"Times,serif\" font-size=\"14.00\" fill=\"#000000\">LA JULIANA</text>\n</g>\n<!-- COLLIQUE&#45;&#45;LA JULIANA -->\n<g id=\"edge24\" class=\"edge\">\n<title>COLLIQUE&#45;&#45;LA JULIANA</title>\n<path fill=\"none\" stroke=\"#000000\" d=\"M1660.9448,-873.4242C1671.0859,-867.8737 1681.5352,-860.7343 1689.3431,-852 1697.6977,-842.6541 1703.2404,-829.6486 1706.6726,-819.1103\"/>\n<text text-anchor=\"middle\" x=\"1767.8431\" y=\"-840.8\" font-family=\"Times,serif\" font-size=\"14.00\" fill=\"#000000\">0.01710045136831298</text>\n</g>\n<!-- LACHE CHICO -->\n<g id=\"node32\" class=\"node\">\n<title>LACHE CHICO</title>\n<ellipse fill=\"none\" stroke=\"#000000\" cx=\"1541.3431\" cy=\"-714\" rx=\"74.187\" ry=\"18\"/>\n<text text-anchor=\"middle\" x=\"1541.3431\" y=\"-710.3\" font-family=\"Times,serif\" font-size=\"14.00\" fill=\"#000000\">LACHE CHICO</text>\n</g>\n<!-- LETANA&#45;&#45;LACHE CHICO -->\n<g id=\"edge25\" class=\"edge\">\n<title>LETANA&#45;&#45;LACHE CHICO</title>\n<path fill=\"none\" stroke=\"#000000\" d=\"M1541.3431,-782.9735C1541.3431,-768.0422 1541.3431,-746.9283 1541.3431,-732.0034\"/>\n<text text-anchor=\"middle\" x=\"1614.8431\" y=\"-753.8\" font-family=\"Times,serif\" font-size=\"14.00\" fill=\"#000000\">0.013889867169989165</text>\n</g>\n<!-- EL ALFALFARITO -->\n<g id=\"node25\" class=\"node\">\n<title>EL ALFALFARITO</title>\n<ellipse fill=\"none\" stroke=\"#000000\" cx=\"2242.3431\" cy=\"-888\" rx=\"87.9851\" ry=\"18\"/>\n<text text-anchor=\"middle\" x=\"2242.3431\" y=\"-884.3\" font-family=\"Times,serif\" font-size=\"14.00\" fill=\"#000000\">EL ALFALFARITO</text>\n</g>\n<!-- LA VENTUROSA -->\n<g id=\"node26\" class=\"node\">\n<title>LA VENTUROSA</title>\n<ellipse fill=\"none\" stroke=\"#000000\" cx=\"1881.3431\" cy=\"-801\" rx=\"83.3857\" ry=\"18\"/>\n<text text-anchor=\"middle\" x=\"1881.3431\" y=\"-797.3\" font-family=\"Times,serif\" font-size=\"14.00\" fill=\"#000000\">LA VENTUROSA</text>\n</g>\n<!-- EL ALFALFARITO&#45;&#45;LA VENTUROSA -->\n<g id=\"edge26\" class=\"edge\">\n<title>EL ALFALFARITO&#45;&#45;LA VENTUROSA</title>\n<path fill=\"none\" stroke=\"#000000\" d=\"M2180.9295,-875.0672C2153.3423,-868.8207 2120.5042,-860.7778 2091.3431,-852 2072.7632,-846.4072 2068.9893,-842.3679 2050.3431,-837 2030.3799,-831.2529 1982.5516,-821.1872 1942.8522,-813.158\"/>\n<text text-anchor=\"middle\" x=\"2164.8431\" y=\"-840.8\" font-family=\"Times,serif\" font-size=\"14.00\" fill=\"#000000\">0.003145345926929992</text>\n</g>\n<!-- JEQUETEPEQUE -->\n<g id=\"node27\" class=\"node\">\n<title>JEQUETEPEQUE</title>\n<ellipse fill=\"none\" stroke=\"#000000\" cx=\"2242.3431\" cy=\"-801\" rx=\"81.7856\" ry=\"18\"/>\n<text text-anchor=\"middle\" x=\"2242.3431\" y=\"-797.3\" font-family=\"Times,serif\" font-size=\"14.00\" fill=\"#000000\">JEQUETEPEQUE</text>\n</g>\n<!-- EL ALFALFARITO&#45;&#45;JEQUETEPEQUE -->\n<g id=\"edge27\" class=\"edge\">\n<title>EL ALFALFARITO&#45;&#45;JEQUETEPEQUE</title>\n<path fill=\"none\" stroke=\"#000000\" d=\"M2242.3431,-869.9735C2242.3431,-855.0422 2242.3431,-833.9283 2242.3431,-819.0034\"/>\n<text text-anchor=\"middle\" x=\"2315.8431\" y=\"-840.8\" font-family=\"Times,serif\" font-size=\"14.00\" fill=\"#000000\">0.004298989765041732</text>\n</g>\n<!-- EL ALFALFARITO&#45;&#45;SANTA APOLONIA -->\n<g id=\"edge28\" class=\"edge\">\n<title>EL ALFALFARITO&#45;&#45;SANTA APOLONIA</title>\n<path fill=\"none\" stroke=\"#000000\" d=\"M2308.4327,-876.139C2334.4756,-870.3849 2364.3222,-862.4216 2390.3431,-852 2402.7275,-847.04 2404.0881,-842.2716 2416.3431,-837 2436.5771,-828.2962 2459.5725,-820.8781 2480.0427,-815.0775\"/>\n<text text-anchor=\"middle\" x=\"2489.8431\" y=\"-840.8\" font-family=\"Times,serif\" font-size=\"14.00\" fill=\"#000000\">0.007259067226578263</text>\n</g>\n<!-- PLATANAR -->\n<g id=\"node31\" class=\"node\">\n<title>PLATANAR</title>\n<ellipse fill=\"none\" stroke=\"#000000\" cx=\"1795.3431\" cy=\"-714\" rx=\"59.5901\" ry=\"18\"/>\n<text text-anchor=\"middle\" x=\"1795.3431\" y=\"-710.3\" font-family=\"Times,serif\" font-size=\"14.00\" fill=\"#000000\">PLATANAR</text>\n</g>\n<!-- LA VENTUROSA&#45;&#45;PLATANAR -->\n<g id=\"edge29\" class=\"edge\">\n<title>LA VENTUROSA&#45;&#45;PLATANAR</title>\n<path fill=\"none\" stroke=\"#000000\" d=\"M1876.6955,-782.8691C1873.2714,-772.3235 1867.7292,-759.3176 1859.3431,-750 1851.4971,-741.2824 1841.0248,-734.1812 1830.8271,-728.6605\"/>\n<text text-anchor=\"middle\" x=\"1941.8431\" y=\"-753.8\" font-family=\"Times,serif\" font-size=\"14.00\" fill=\"#000000\">0.010720050093166482</text>\n</g>\n<!-- PUENTE ZAMBRANO -->\n<g id=\"node30\" class=\"node\">\n<title>PUENTE ZAMBRANO</title>\n<ellipse fill=\"none\" stroke=\"#000000\" cx=\"2152.3431\" cy=\"-714\" rx=\"103.9815\" ry=\"18\"/>\n<text text-anchor=\"middle\" x=\"2152.3431\" y=\"-710.3\" font-family=\"Times,serif\" font-size=\"14.00\" fill=\"#000000\">PUENTE ZAMBRANO</text>\n</g>\n<!-- JEQUETEPEQUE&#45;&#45;PUENTE ZAMBRANO -->\n<g id=\"edge30\" class=\"edge\">\n<title>JEQUETEPEQUE&#45;&#45;PUENTE ZAMBRANO</title>\n<path fill=\"none\" stroke=\"#000000\" d=\"M2237.3724,-782.8075C2233.7531,-772.2401 2227.9566,-759.2328 2219.3431,-750 2212.137,-742.2757 2202.8917,-735.8635 2193.5855,-730.6976\"/>\n<text text-anchor=\"middle\" x=\"2302.8431\" y=\"-753.8\" font-family=\"Times,serif\" font-size=\"14.00\" fill=\"#000000\">0.006042149038213855</text>\n</g>\n<!-- LA JULIANA&#45;&#45;PLATANAR -->\n<g id=\"edge31\" class=\"edge\">\n<title>LA JULIANA&#45;&#45;PLATANAR</title>\n<path fill=\"none\" stroke=\"#000000\" d=\"M1707.1091,-782.5616C1705.7811,-772.1655 1706.0311,-759.4155 1712.3431,-750 1720.3896,-737.9974 1733.3722,-729.9722 1746.7038,-724.6159\"/>\n<text text-anchor=\"middle\" x=\"1785.8431\" y=\"-753.8\" font-family=\"Times,serif\" font-size=\"14.00\" fill=\"#000000\">0.008588208951803697</text>\n</g>\n<!-- LA PRIMAVERA&#45;&#45;PUENTE ZAMBRANO -->\n<g id=\"edge32\" class=\"edge\">\n<title>LA PRIMAVERA&#45;&#45;PUENTE ZAMBRANO</title>\n<path fill=\"none\" stroke=\"#000000\" d=\"M2057.1511,-783.0169C2055.2298,-772.5238 2054.8707,-759.521 2061.3431,-750 2067.8383,-740.4455 2077.3036,-733.4268 2087.7028,-728.2709\"/>\n<text text-anchor=\"middle\" x=\"2138.3431\" y=\"-753.8\" font-family=\"Times,serif\" font-size=\"14.00\" fill=\"#000000\">0.0074415826273706446</text>\n</g>\n<!-- JAGUEY (EL JAGUEY) -->\n<g id=\"node33\" class=\"node\">\n<title>JAGUEY (EL JAGUEY)</title>\n<ellipse fill=\"none\" stroke=\"#000000\" cx=\"1541.3431\" cy=\"-627\" rx=\"105.0817\" ry=\"18\"/>\n<text text-anchor=\"middle\" x=\"1541.3431\" y=\"-623.3\" font-family=\"Times,serif\" font-size=\"14.00\" fill=\"#000000\">JAGUEY (EL JAGUEY)</text>\n</g>\n<!-- LACHE CHICO&#45;&#45;JAGUEY (EL JAGUEY) -->\n<g id=\"edge33\" class=\"edge\">\n<title>LACHE CHICO&#45;&#45;JAGUEY (EL JAGUEY)</title>\n<path fill=\"none\" stroke=\"#000000\" d=\"M1541.3431,-695.9735C1541.3431,-681.0422 1541.3431,-659.9283 1541.3431,-645.0034\"/>\n<text text-anchor=\"middle\" x=\"1614.8431\" y=\"-666.8\" font-family=\"Times,serif\" font-size=\"14.00\" fill=\"#000000\">0.022576487791503154</text>\n</g>\n<!-- CAVOUR -->\n<g id=\"node38\" class=\"node\">\n<title>CAVOUR</title>\n<ellipse fill=\"none\" stroke=\"#000000\" cx=\"1541.3431\" cy=\"-540\" rx=\"50.0912\" ry=\"18\"/>\n<text text-anchor=\"middle\" x=\"1541.3431\" y=\"-536.3\" font-family=\"Times,serif\" font-size=\"14.00\" fill=\"#000000\">CAVOUR</text>\n</g>\n<!-- JAGUEY (EL JAGUEY)&#45;&#45;CAVOUR -->\n<g id=\"edge34\" class=\"edge\">\n<title>JAGUEY (EL JAGUEY)&#45;&#45;CAVOUR</title>\n<path fill=\"none\" stroke=\"#000000\" d=\"M1541.3431,-608.9735C1541.3431,-594.0422 1541.3431,-572.9283 1541.3431,-558.0034\"/>\n<text text-anchor=\"middle\" x=\"1610.8431\" y=\"-579.8\" font-family=\"Times,serif\" font-size=\"14.00\" fill=\"#000000\">0.03636534819027649</text>\n</g>\n<!-- CULTAMBO -->\n<g id=\"node35\" class=\"node\">\n<title>CULTAMBO</title>\n<ellipse fill=\"none\" stroke=\"#000000\" cx=\"1200.3431\" cy=\"-540\" rx=\"62.2891\" ry=\"18\"/>\n<text text-anchor=\"middle\" x=\"1200.3431\" y=\"-536.3\" font-family=\"Times,serif\" font-size=\"14.00\" fill=\"#000000\">CULTAMBO</text>\n</g>\n<!-- EL INFIERNILLO -->\n<g id=\"node36\" class=\"node\">\n<title>EL INFIERNILLO</title>\n<ellipse fill=\"none\" stroke=\"#000000\" cx=\"1115.3431\" cy=\"-453\" rx=\"83.3857\" ry=\"18\"/>\n<text text-anchor=\"middle\" x=\"1115.3431\" y=\"-449.3\" font-family=\"Times,serif\" font-size=\"14.00\" fill=\"#000000\">EL INFIERNILLO</text>\n</g>\n<!-- CULTAMBO&#45;&#45;EL INFIERNILLO -->\n<g id=\"edge35\" class=\"edge\">\n<title>CULTAMBO&#45;&#45;EL INFIERNILLO</title>\n<path fill=\"none\" stroke=\"#000000\" d=\"M1150.2521,-529.1595C1137.0707,-523.8091 1124.3204,-515.8435 1116.3431,-504 1110.0106,-494.5983 1109.7606,-481.8483 1111.0937,-471.4487\"/>\n<text text-anchor=\"middle\" x=\"1189.8431\" y=\"-492.8\" font-family=\"Times,serif\" font-size=\"14.00\" fill=\"#000000\">0.018738926436686183</text>\n</g>\n<!-- POTRERO -->\n<g id=\"node39\" class=\"node\">\n<title>POTRERO</title>\n<ellipse fill=\"none\" stroke=\"#000000\" cx=\"1285.3431\" cy=\"-453\" rx=\"53.8905\" ry=\"18\"/>\n<text text-anchor=\"middle\" x=\"1285.3431\" y=\"-449.3\" font-family=\"Times,serif\" font-size=\"14.00\" fill=\"#000000\">POTRERO</text>\n</g>\n<!-- CULTAMBO&#45;&#45;POTRERO -->\n<g id=\"edge36\" class=\"edge\">\n<title>CULTAMBO&#45;&#45;POTRERO</title>\n<path fill=\"none\" stroke=\"#000000\" d=\"M1235.5995,-525.0639C1245.5341,-519.5659 1255.7031,-512.5465 1263.3431,-504 1271.6977,-494.6541 1277.2404,-481.6486 1280.6726,-471.1103\"/>\n<text text-anchor=\"middle\" x=\"1341.8431\" y=\"-492.8\" font-family=\"Times,serif\" font-size=\"14.00\" fill=\"#000000\">0.01680547797594727</text>\n</g>\n<!-- EL INFIERNILLO&#45;&#45;LAS VEGAS -->\n<g id=\"edge37\" class=\"edge\">\n<title>EL INFIERNILLO&#45;&#45;LAS VEGAS</title>\n<path fill=\"none\" stroke=\"#000000\" d=\"M1053.687,-440.8549C1026.304,-434.785 993.8804,-426.6627 965.3431,-417 936.3816,-407.1937 904.7034,-392.8603 881.9415,-381.8842\"/>\n<text text-anchor=\"middle\" x=\"1038.3431\" y=\"-405.8\" font-family=\"Times,serif\" font-size=\"14.00\" fill=\"#000000\">0.016346237151105964</text>\n</g>\n<!-- SANTA MARIA DE TECAPA -->\n<g id=\"node42\" class=\"node\">\n<title>SANTA MARIA DE TECAPA</title>\n<ellipse fill=\"none\" stroke=\"#000000\" cx=\"1115.3431\" cy=\"-366\" rx=\"128.0773\" ry=\"18\"/>\n<text text-anchor=\"middle\" x=\"1115.3431\" y=\"-362.3\" font-family=\"Times,serif\" font-size=\"14.00\" fill=\"#000000\">SANTA MARIA DE TECAPA</text>\n</g>\n<!-- EL INFIERNILLO&#45;&#45;SANTA MARIA DE TECAPA -->\n<g id=\"edge38\" class=\"edge\">\n<title>EL INFIERNILLO&#45;&#45;SANTA MARIA DE TECAPA</title>\n<path fill=\"none\" stroke=\"#000000\" d=\"M1115.3431,-434.9735C1115.3431,-420.0422 1115.3431,-398.9283 1115.3431,-384.0034\"/>\n<text text-anchor=\"middle\" x=\"1188.8431\" y=\"-405.8\" font-family=\"Times,serif\" font-size=\"14.00\" fill=\"#000000\">0.026778812987136177</text>\n</g>\n<!-- QUEBRACHO -->\n<g id=\"node40\" class=\"node\">\n<title>QUEBRACHO</title>\n<ellipse fill=\"none\" stroke=\"#000000\" cx=\"1456.3431\" cy=\"-453\" rx=\"69.5877\" ry=\"18\"/>\n<text text-anchor=\"middle\" x=\"1456.3431\" y=\"-449.3\" font-family=\"Times,serif\" font-size=\"14.00\" fill=\"#000000\">QUEBRACHO</text>\n</g>\n<!-- CAVOUR&#45;&#45;QUEBRACHO -->\n<g id=\"edge40\" class=\"edge\">\n<title>CAVOUR&#45;&#45;QUEBRACHO</title>\n<path fill=\"none\" stroke=\"#000000\" d=\"M1497.6335,-531.098C1482.7041,-525.7837 1467.4829,-517.3488 1458.3431,-504 1451.8353,-494.4952 1451.4213,-481.4921 1452.5902,-470.9948\"/>\n<text text-anchor=\"middle\" x=\"1527.8431\" y=\"-492.8\" font-family=\"Times,serif\" font-size=\"14.00\" fill=\"#000000\">0.03979703075608305</text>\n</g>\n<!-- CALA -->\n<g id=\"node47\" class=\"node\">\n<title>CALA</title>\n<ellipse fill=\"none\" stroke=\"#000000\" cx=\"1624.3431\" cy=\"-453\" rx=\"36.2938\" ry=\"18\"/>\n<text text-anchor=\"middle\" x=\"1624.3431\" y=\"-449.3\" font-family=\"Times,serif\" font-size=\"14.00\" fill=\"#000000\">CALA</text>\n</g>\n<!-- CAVOUR&#45;&#45;CALA -->\n<g id=\"edge39\" class=\"edge\">\n<title>CAVOUR&#45;&#45;CALA</title>\n<path fill=\"none\" stroke=\"#000000\" d=\"M1572.6547,-525.9524C1582.7834,-520.2551 1593.4306,-512.8948 1601.3431,-504 1609.7355,-494.5658 1615.5355,-481.5617 1619.2118,-471.0461\"/>\n<text text-anchor=\"middle\" x=\"1683.8431\" y=\"-492.8\" font-family=\"Times,serif\" font-size=\"14.00\" fill=\"#000000\">0.038992689699480894</text>\n</g>\n<!-- TECAPA -->\n<g id=\"node41\" class=\"node\">\n<title>TECAPA</title>\n<ellipse fill=\"none\" stroke=\"#000000\" cx=\"1382.3431\" cy=\"-366\" rx=\"46.5926\" ry=\"18\"/>\n<text text-anchor=\"middle\" x=\"1382.3431\" y=\"-362.3\" font-family=\"Times,serif\" font-size=\"14.00\" fill=\"#000000\">TECAPA</text>\n</g>\n<!-- POTRERO&#45;&#45;TECAPA -->\n<g id=\"edge41\" class=\"edge\">\n<title>POTRERO&#45;&#45;TECAPA</title>\n<path fill=\"none\" stroke=\"#000000\" d=\"M1279.0599,-434.9533C1276.5903,-424.4376 1275.7131,-411.4335 1282.3431,-402 1289.611,-391.6591 1317.7392,-382.076 1342.3192,-375.4013\"/>\n<text text-anchor=\"middle\" x=\"1355.8431\" y=\"-405.8\" font-family=\"Times,serif\" font-size=\"14.00\" fill=\"#000000\">0.006778487515662847</text>\n</g>\n<!-- QUEBRACHO&#45;&#45;TECAPA -->\n<g id=\"edge42\" class=\"edge\">\n<title>QUEBRACHO&#45;&#45;TECAPA</title>\n<path fill=\"none\" stroke=\"#000000\" d=\"M1450.7778,-434.692C1447.006,-424.3393 1441.256,-411.5893 1433.3431,-402 1426.5832,-393.8079 1417.5251,-386.6122 1408.9189,-380.8506\"/>\n<text text-anchor=\"middle\" x=\"1515.8431\" y=\"-405.8\" font-family=\"Times,serif\" font-size=\"14.00\" fill=\"#000000\">0.010908597022530607</text>\n</g>\n<!-- BRISAS DE PACASMAYO -->\n<g id=\"node43\" class=\"node\">\n<title>BRISAS DE PACASMAYO</title>\n<ellipse fill=\"none\" stroke=\"#000000\" cx=\"2294.3431\" cy=\"-366\" rx=\"118.8789\" ry=\"18\"/>\n<text text-anchor=\"middle\" x=\"2294.3431\" y=\"-362.3\" font-family=\"Times,serif\" font-size=\"14.00\" fill=\"#000000\">BRISAS DE PACASMAYO</text>\n</g>\n<!-- SAN DEMETRIO -->\n<g id=\"node44\" class=\"node\">\n<title>SAN DEMETRIO</title>\n<ellipse fill=\"none\" stroke=\"#000000\" cx=\"2294.3431\" cy=\"-279\" rx=\"81.4863\" ry=\"18\"/>\n<text text-anchor=\"middle\" x=\"2294.3431\" y=\"-275.3\" font-family=\"Times,serif\" font-size=\"14.00\" fill=\"#000000\">SAN DEMETRIO</text>\n</g>\n<!-- BRISAS DE PACASMAYO&#45;&#45;SAN DEMETRIO -->\n<g id=\"edge43\" class=\"edge\">\n<title>BRISAS DE PACASMAYO&#45;&#45;SAN DEMETRIO</title>\n<path fill=\"none\" stroke=\"#000000\" d=\"M2294.3431,-347.9735C2294.3431,-333.0422 2294.3431,-311.9283 2294.3431,-297.0034\"/>\n<text text-anchor=\"middle\" x=\"2363.8431\" y=\"-318.8\" font-family=\"Times,serif\" font-size=\"14.00\" fill=\"#000000\">0.01606665571921207</text>\n</g>\n<!-- PUEBLO LIBRE -->\n<g id=\"node52\" class=\"node\">\n<title>PUEBLO LIBRE</title>\n<ellipse fill=\"none\" stroke=\"#000000\" cx=\"2209.3431\" cy=\"-192\" rx=\"77.1866\" ry=\"18\"/>\n<text text-anchor=\"middle\" x=\"2209.3431\" y=\"-188.3\" font-family=\"Times,serif\" font-size=\"14.00\" fill=\"#000000\">PUEBLO LIBRE</text>\n</g>\n<!-- SAN DEMETRIO&#45;&#45;PUEBLO LIBRE -->\n<g id=\"edge44\" class=\"edge\">\n<title>SAN DEMETRIO&#45;&#45;PUEBLO LIBRE</title>\n<path fill=\"none\" stroke=\"#000000\" d=\"M2289.6726,-260.8897C2286.2404,-250.3514 2280.6977,-237.3459 2272.3431,-228 2265.1229,-219.9231 2255.644,-213.2101 2246.2387,-207.8562\"/>\n<text text-anchor=\"middle\" x=\"2346.8431\" y=\"-231.8\" font-family=\"Times,serif\" font-size=\"14.00\" fill=\"#000000\">0.0128177201170882</text>\n</g>\n<!-- BUENOS AIRES -->\n<g id=\"node45\" class=\"node\">\n<title>BUENOS AIRES</title>\n<ellipse fill=\"none\" stroke=\"#000000\" cx=\"1886.3431\" cy=\"-366\" rx=\"77.9862\" ry=\"18\"/>\n<text text-anchor=\"middle\" x=\"1886.3431\" y=\"-362.3\" font-family=\"Times,serif\" font-size=\"14.00\" fill=\"#000000\">BUENOS AIRES</text>\n</g>\n<!-- LA CONSTANCIA -->\n<g id=\"node46\" class=\"node\">\n<title>LA CONSTANCIA</title>\n<ellipse fill=\"none\" stroke=\"#000000\" cx=\"1968.3431\" cy=\"-279\" rx=\"85.5853\" ry=\"18\"/>\n<text text-anchor=\"middle\" x=\"1968.3431\" y=\"-275.3\" font-family=\"Times,serif\" font-size=\"14.00\" fill=\"#000000\">LA CONSTANCIA</text>\n</g>\n<!-- BUENOS AIRES&#45;&#45;LA CONSTANCIA -->\n<g id=\"edge45\" class=\"edge\">\n<title>BUENOS AIRES&#45;&#45;LA CONSTANCIA</title>\n<path fill=\"none\" stroke=\"#000000\" d=\"M1920.8059,-349.6924C1929.6136,-344.3367 1938.5131,-337.7357 1945.3431,-330 1953.7003,-320.5346 1959.5008,-307.531 1963.1862,-297.0235\"/>\n<text text-anchor=\"middle\" x=\"2023.8431\" y=\"-318.8\" font-family=\"Times,serif\" font-size=\"14.00\" fill=\"#000000\">0.03287400979497351</text>\n</g>\n<!-- DIOS TEDE -->\n<g id=\"node50\" class=\"node\">\n<title>DIOS TEDE</title>\n<ellipse fill=\"none\" stroke=\"#000000\" cx=\"1804.3431\" cy=\"-279\" rx=\"59.5901\" ry=\"18\"/>\n<text text-anchor=\"middle\" x=\"1804.3431\" y=\"-275.3\" font-family=\"Times,serif\" font-size=\"14.00\" fill=\"#000000\">DIOS TEDE</text>\n</g>\n<!-- BUENOS AIRES&#45;&#45;DIOS TEDE -->\n<g id=\"edge46\" class=\"edge\">\n<title>BUENOS AIRES&#45;&#45;DIOS TEDE</title>\n<path fill=\"none\" stroke=\"#000000\" d=\"M1831.2995,-353.1759C1819.8839,-347.8982 1809.2432,-340.4641 1802.3431,-330 1796.0994,-320.5312 1796.5994,-307.7812 1798.6604,-297.3984\"/>\n<text text-anchor=\"middle\" x=\"1871.8431\" y=\"-318.8\" font-family=\"Times,serif\" font-size=\"14.00\" fill=\"#000000\">0.03826314595010774</text>\n</g>\n<!-- EL HORNITO -->\n<g id=\"node51\" class=\"node\">\n<title>EL HORNITO</title>\n<ellipse fill=\"none\" stroke=\"#000000\" cx=\"1632.3431\" cy=\"-192\" rx=\"66.8882\" ry=\"18\"/>\n<text text-anchor=\"middle\" x=\"1632.3431\" y=\"-188.3\" font-family=\"Times,serif\" font-size=\"14.00\" fill=\"#000000\">EL HORNITO</text>\n</g>\n<!-- LA CONSTANCIA&#45;&#45;EL HORNITO -->\n<g id=\"edge47\" class=\"edge\">\n<title>LA CONSTANCIA&#45;&#45;EL HORNITO</title>\n<path fill=\"none\" stroke=\"#000000\" d=\"M1963.6096,-260.8248C1959.6335,-249.4155 1952.7247,-235.4901 1941.3431,-228 1899.6276,-200.5475 1766.7614,-217.1877 1717.3431,-210 1706.1478,-208.3717 1694.2166,-206.1525 1682.9416,-203.8284\"/>\n<text text-anchor=\"middle\" x=\"2023.8431\" y=\"-231.8\" font-family=\"Times,serif\" font-size=\"14.00\" fill=\"#000000\">0.02881210207534879</text>\n</g>\n<!-- LA CONSTANCIA&#45;&#45;PUEBLO LIBRE -->\n<g id=\"edge48\" class=\"edge\">\n<title>LA CONSTANCIA&#45;&#45;PUEBLO LIBRE</title>\n<path fill=\"none\" stroke=\"#000000\" d=\"M2033.8213,-267.2084C2056.5661,-261.6563 2081.7645,-253.8108 2103.3431,-243 2112.9623,-238.1808 2113.062,-233.4419 2122.3431,-228 2136.0211,-219.98 2151.8243,-212.8692 2166.1785,-207.1299\"/>\n<text text-anchor=\"middle\" x=\"2195.3431\" y=\"-231.8\" font-family=\"Times,serif\" font-size=\"14.00\" fill=\"#000000\">0.015094631131630565</text>\n</g>\n<!-- CHASCARRAPE -->\n<g id=\"node48\" class=\"node\">\n<title>CHASCARRAPE</title>\n<ellipse fill=\"none\" stroke=\"#000000\" cx=\"1625.3431\" cy=\"-366\" rx=\"79.8859\" ry=\"18\"/>\n<text text-anchor=\"middle\" x=\"1625.3431\" y=\"-362.3\" font-family=\"Times,serif\" font-size=\"14.00\" fill=\"#000000\">CHASCARRAPE</text>\n</g>\n<!-- CALA&#45;&#45;CHASCARRAPE -->\n<g id=\"edge49\" class=\"edge\">\n<title>CALA&#45;&#45;CHASCARRAPE</title>\n<path fill=\"none\" stroke=\"#000000\" d=\"M1624.5503,-434.9735C1624.722,-420.0422 1624.9647,-398.9283 1625.1362,-384.0034\"/>\n<text text-anchor=\"middle\" x=\"1697.8431\" y=\"-405.8\" font-family=\"Times,serif\" font-size=\"14.00\" fill=\"#000000\">0.017587829456755147</text>\n</g>\n<!-- CRUCE EL HORNITO -->\n<g id=\"node49\" class=\"node\">\n<title>CRUCE EL HORNITO</title>\n<ellipse fill=\"none\" stroke=\"#000000\" cx=\"1625.3431\" cy=\"-279\" rx=\"100.9827\" ry=\"18\"/>\n<text text-anchor=\"middle\" x=\"1625.3431\" y=\"-275.3\" font-family=\"Times,serif\" font-size=\"14.00\" fill=\"#000000\">CRUCE EL HORNITO</text>\n</g>\n<!-- CHASCARRAPE&#45;&#45;CRUCE EL HORNITO -->\n<g id=\"edge50\" class=\"edge\">\n<title>CHASCARRAPE&#45;&#45;CRUCE EL HORNITO</title>\n<path fill=\"none\" stroke=\"#000000\" d=\"M1625.3431,-347.9735C1625.3431,-333.0422 1625.3431,-311.9283 1625.3431,-297.0034\"/>\n<text text-anchor=\"middle\" x=\"1698.8431\" y=\"-318.8\" font-family=\"Times,serif\" font-size=\"14.00\" fill=\"#000000\">0.026178064481544108</text>\n</g>\n<!-- CRUCE EL HORNITO&#45;&#45;EL HORNITO -->\n<g id=\"edge51\" class=\"edge\">\n<title>CRUCE EL HORNITO&#45;&#45;EL HORNITO</title>\n<path fill=\"none\" stroke=\"#000000\" d=\"M1626.7935,-260.9735C1627.9949,-246.0422 1629.6937,-224.9283 1630.8946,-210.0034\"/>\n<text text-anchor=\"middle\" x=\"1701.8431\" y=\"-231.8\" font-family=\"Times,serif\" font-size=\"14.00\" fill=\"#000000\">0.004395269843820136</text>\n</g>\n<!-- SANTA ELENA -->\n<g id=\"node53\" class=\"node\">\n<title>SANTA ELENA</title>\n<ellipse fill=\"none\" stroke=\"#000000\" cx=\"1801.3431\" cy=\"-192\" rx=\"75.2868\" ry=\"18\"/>\n<text text-anchor=\"middle\" x=\"1801.3431\" y=\"-188.3\" font-family=\"Times,serif\" font-size=\"14.00\" fill=\"#000000\">SANTA ELENA</text>\n</g>\n<!-- DIOS TEDE&#45;&#45;SANTA ELENA -->\n<g id=\"edge52\" class=\"edge\">\n<title>DIOS TEDE&#45;&#45;SANTA ELENA</title>\n<path fill=\"none\" stroke=\"#000000\" d=\"M1803.1986,-260.6918C1802.8785,-255.0228 1802.5593,-248.7548 1802.3431,-243 1801.9375,-232.2035 1801.6914,-220.1147 1801.5449,-210.4173\"/>\n<text text-anchor=\"middle\" x=\"1871.8431\" y=\"-231.8\" font-family=\"Times,serif\" font-size=\"14.00\" fill=\"#000000\">0.01308295027890059</text>\n</g>\n</g>\n</svg>\n"
          },
          "metadata": {
            "tags": []
          },
          "execution_count": 57
        }
      ]
    },
    {
      "cell_type": "code",
      "metadata": {
        "colab": {
          "base_uri": "https://localhost:8080/",
          "height": 162
        },
        "id": "SLDaw59ClAiR",
        "outputId": "27e111ca-9bc3-4ea5-c94f-a79665501b3f"
      },
      "source": [
        "print(primAl(G, 'EL PALMO')) #P1\n"
      ],
      "execution_count": null,
      "outputs": [
        {
          "output_type": "error",
          "ename": "NameError",
          "evalue": "ignored",
          "traceback": [
            "\u001b[0;31m---------------------------------------------------------------------------\u001b[0m",
            "\u001b[0;31mNameError\u001b[0m                                 Traceback (most recent call last)",
            "\u001b[0;32m<ipython-input-23-4bb042b9ce8c>\u001b[0m in \u001b[0;36m<module>\u001b[0;34m()\u001b[0m\n\u001b[0;32m----> 1\u001b[0;31m \u001b[0mprint\u001b[0m\u001b[0;34m(\u001b[0m\u001b[0mprimAl\u001b[0m\u001b[0;34m(\u001b[0m\u001b[0mG\u001b[0m\u001b[0;34m,\u001b[0m \u001b[0;34m'EL PALMO'\u001b[0m\u001b[0;34m)\u001b[0m\u001b[0;34m)\u001b[0m\u001b[0;34m\u001b[0m\u001b[0;34m\u001b[0m\u001b[0m\n\u001b[0m",
            "\u001b[0;31mNameError\u001b[0m: name 'primAl' is not defined"
          ]
        }
      ]
    },
    {
      "cell_type": "code",
      "metadata": {
        "id": "q5-bBcPdZa5V",
        "colab": {
          "base_uri": "https://localhost:8080/",
          "height": 296
        },
        "outputId": "8f53a971-8dc8-47ca-9d9f-d3adaeced035"
      },
      "source": [
        "\n",
        "print (G.edges[('EL PALMO','DOS CORRALES')]) #P2"
      ],
      "execution_count": null,
      "outputs": [
        {
          "output_type": "error",
          "ename": "KeyError",
          "evalue": "ignored",
          "traceback": [
            "\u001b[0;31m---------------------------------------------------------------------------\u001b[0m",
            "\u001b[0;31mKeyError\u001b[0m                                  Traceback (most recent call last)",
            "\u001b[0;32m<ipython-input-24-6f126e68ec74>\u001b[0m in \u001b[0;36m<module>\u001b[0;34m()\u001b[0m\n\u001b[1;32m      1\u001b[0m \u001b[0;34m\u001b[0m\u001b[0m\n\u001b[0;32m----> 2\u001b[0;31m \u001b[0mprint\u001b[0m \u001b[0;34m(\u001b[0m\u001b[0mG\u001b[0m\u001b[0;34m.\u001b[0m\u001b[0medges\u001b[0m\u001b[0;34m[\u001b[0m\u001b[0;34m(\u001b[0m\u001b[0;34m'EL PALMO'\u001b[0m\u001b[0;34m,\u001b[0m\u001b[0;34m'DOS CORRALES'\u001b[0m\u001b[0;34m)\u001b[0m\u001b[0;34m]\u001b[0m\u001b[0;34m)\u001b[0m\u001b[0;34m\u001b[0m\u001b[0;34m\u001b[0m\u001b[0m\n\u001b[0m",
            "\u001b[0;32m/usr/local/lib/python3.7/dist-packages/networkx/classes/reportviews.py\u001b[0m in \u001b[0;36m__getitem__\u001b[0;34m(self, e)\u001b[0m\n\u001b[1;32m   1014\u001b[0m     \u001b[0;32mdef\u001b[0m \u001b[0m__getitem__\u001b[0m\u001b[0;34m(\u001b[0m\u001b[0mself\u001b[0m\u001b[0;34m,\u001b[0m \u001b[0me\u001b[0m\u001b[0;34m)\u001b[0m\u001b[0;34m:\u001b[0m\u001b[0;34m\u001b[0m\u001b[0;34m\u001b[0m\u001b[0m\n\u001b[1;32m   1015\u001b[0m         \u001b[0mu\u001b[0m\u001b[0;34m,\u001b[0m \u001b[0mv\u001b[0m \u001b[0;34m=\u001b[0m \u001b[0me\u001b[0m\u001b[0;34m\u001b[0m\u001b[0;34m\u001b[0m\u001b[0m\n\u001b[0;32m-> 1016\u001b[0;31m         \u001b[0;32mreturn\u001b[0m \u001b[0mself\u001b[0m\u001b[0;34m.\u001b[0m\u001b[0m_adjdict\u001b[0m\u001b[0;34m[\u001b[0m\u001b[0mu\u001b[0m\u001b[0;34m]\u001b[0m\u001b[0;34m[\u001b[0m\u001b[0mv\u001b[0m\u001b[0;34m]\u001b[0m\u001b[0;34m\u001b[0m\u001b[0;34m\u001b[0m\u001b[0m\n\u001b[0m\u001b[1;32m   1017\u001b[0m \u001b[0;34m\u001b[0m\u001b[0m\n\u001b[1;32m   1018\u001b[0m     \u001b[0;31m# EdgeDataView methods\u001b[0m\u001b[0;34m\u001b[0m\u001b[0;34m\u001b[0m\u001b[0;34m\u001b[0m\u001b[0m\n",
            "\u001b[0;31mKeyError\u001b[0m: 'EL PALMO'"
          ]
        }
      ]
    },
    {
      "cell_type": "code",
      "metadata": {
        "colab": {
          "base_uri": "https://localhost:8080/",
          "height": 421
        },
        "id": "Qn45fzjx4HZu",
        "outputId": "288c0113-f1f4-4007-e542-e8909d191ebd"
      },
      "source": [
        "nombre = 'DOS CORRALES' #P3\n",
        "list_neighbors = G.neighbors(nombre)\n",
        "for i in list_neighbors:\n",
        "  if G.edges[(nombre,i)][\"weight\"] > 0.030:\n",
        "     print (i,G.edges[(nombre,i)])"
      ],
      "execution_count": null,
      "outputs": [
        {
          "output_type": "error",
          "ename": "NetworkXError",
          "evalue": "ignored",
          "traceback": [
            "\u001b[0;31m---------------------------------------------------------------------------\u001b[0m",
            "\u001b[0;31mKeyError\u001b[0m                                  Traceback (most recent call last)",
            "\u001b[0;32m/usr/local/lib/python3.7/dist-packages/networkx/classes/graph.py\u001b[0m in \u001b[0;36mneighbors\u001b[0;34m(self, n)\u001b[0m\n\u001b[1;32m   1237\u001b[0m         \u001b[0;32mtry\u001b[0m\u001b[0;34m:\u001b[0m\u001b[0;34m\u001b[0m\u001b[0;34m\u001b[0m\u001b[0m\n\u001b[0;32m-> 1238\u001b[0;31m             \u001b[0;32mreturn\u001b[0m \u001b[0miter\u001b[0m\u001b[0;34m(\u001b[0m\u001b[0mself\u001b[0m\u001b[0;34m.\u001b[0m\u001b[0m_adj\u001b[0m\u001b[0;34m[\u001b[0m\u001b[0mn\u001b[0m\u001b[0;34m]\u001b[0m\u001b[0;34m)\u001b[0m\u001b[0;34m\u001b[0m\u001b[0;34m\u001b[0m\u001b[0m\n\u001b[0m\u001b[1;32m   1239\u001b[0m         \u001b[0;32mexcept\u001b[0m \u001b[0mKeyError\u001b[0m \u001b[0;32mas\u001b[0m \u001b[0me\u001b[0m\u001b[0;34m:\u001b[0m\u001b[0;34m\u001b[0m\u001b[0;34m\u001b[0m\u001b[0m\n",
            "\u001b[0;31mKeyError\u001b[0m: 'DOS CORRALES'",
            "\nThe above exception was the direct cause of the following exception:\n",
            "\u001b[0;31mNetworkXError\u001b[0m                             Traceback (most recent call last)",
            "\u001b[0;32m<ipython-input-25-f92dcc52e403>\u001b[0m in \u001b[0;36m<module>\u001b[0;34m()\u001b[0m\n\u001b[1;32m      1\u001b[0m \u001b[0mnombre\u001b[0m \u001b[0;34m=\u001b[0m \u001b[0;34m'DOS CORRALES'\u001b[0m\u001b[0;34m\u001b[0m\u001b[0;34m\u001b[0m\u001b[0m\n\u001b[0;32m----> 2\u001b[0;31m \u001b[0mlist_neighbors\u001b[0m \u001b[0;34m=\u001b[0m \u001b[0mG\u001b[0m\u001b[0;34m.\u001b[0m\u001b[0mneighbors\u001b[0m\u001b[0;34m(\u001b[0m\u001b[0mnombre\u001b[0m\u001b[0;34m)\u001b[0m\u001b[0;34m\u001b[0m\u001b[0;34m\u001b[0m\u001b[0m\n\u001b[0m\u001b[1;32m      3\u001b[0m \u001b[0;32mfor\u001b[0m \u001b[0mi\u001b[0m \u001b[0;32min\u001b[0m \u001b[0mlist_neighbors\u001b[0m\u001b[0;34m:\u001b[0m\u001b[0;34m\u001b[0m\u001b[0;34m\u001b[0m\u001b[0m\n\u001b[1;32m      4\u001b[0m   \u001b[0;32mif\u001b[0m \u001b[0mG\u001b[0m\u001b[0;34m.\u001b[0m\u001b[0medges\u001b[0m\u001b[0;34m[\u001b[0m\u001b[0;34m(\u001b[0m\u001b[0mnombre\u001b[0m\u001b[0;34m,\u001b[0m\u001b[0mi\u001b[0m\u001b[0;34m)\u001b[0m\u001b[0;34m]\u001b[0m\u001b[0;34m[\u001b[0m\u001b[0;34m\"weight\"\u001b[0m\u001b[0;34m]\u001b[0m \u001b[0;34m>\u001b[0m \u001b[0;36m0.030\u001b[0m\u001b[0;34m:\u001b[0m\u001b[0;34m\u001b[0m\u001b[0;34m\u001b[0m\u001b[0m\n\u001b[1;32m      5\u001b[0m      \u001b[0mprint\u001b[0m \u001b[0;34m(\u001b[0m\u001b[0mi\u001b[0m\u001b[0;34m,\u001b[0m\u001b[0mG\u001b[0m\u001b[0;34m.\u001b[0m\u001b[0medges\u001b[0m\u001b[0;34m[\u001b[0m\u001b[0;34m(\u001b[0m\u001b[0mnombre\u001b[0m\u001b[0;34m,\u001b[0m\u001b[0mi\u001b[0m\u001b[0;34m)\u001b[0m\u001b[0;34m]\u001b[0m\u001b[0;34m)\u001b[0m\u001b[0;34m\u001b[0m\u001b[0;34m\u001b[0m\u001b[0m\n",
            "\u001b[0;32m/usr/local/lib/python3.7/dist-packages/networkx/classes/graph.py\u001b[0m in \u001b[0;36mneighbors\u001b[0;34m(self, n)\u001b[0m\n\u001b[1;32m   1238\u001b[0m             \u001b[0;32mreturn\u001b[0m \u001b[0miter\u001b[0m\u001b[0;34m(\u001b[0m\u001b[0mself\u001b[0m\u001b[0;34m.\u001b[0m\u001b[0m_adj\u001b[0m\u001b[0;34m[\u001b[0m\u001b[0mn\u001b[0m\u001b[0;34m]\u001b[0m\u001b[0;34m)\u001b[0m\u001b[0;34m\u001b[0m\u001b[0;34m\u001b[0m\u001b[0m\n\u001b[1;32m   1239\u001b[0m         \u001b[0;32mexcept\u001b[0m \u001b[0mKeyError\u001b[0m \u001b[0;32mas\u001b[0m \u001b[0me\u001b[0m\u001b[0;34m:\u001b[0m\u001b[0;34m\u001b[0m\u001b[0;34m\u001b[0m\u001b[0m\n\u001b[0;32m-> 1240\u001b[0;31m             \u001b[0;32mraise\u001b[0m \u001b[0mNetworkXError\u001b[0m\u001b[0;34m(\u001b[0m\u001b[0;34mf\"The node {n} is not in the graph.\"\u001b[0m\u001b[0;34m)\u001b[0m \u001b[0;32mfrom\u001b[0m \u001b[0me\u001b[0m\u001b[0;34m\u001b[0m\u001b[0;34m\u001b[0m\u001b[0m\n\u001b[0m\u001b[1;32m   1241\u001b[0m \u001b[0;34m\u001b[0m\u001b[0m\n\u001b[1;32m   1242\u001b[0m     \u001b[0;34m@\u001b[0m\u001b[0mproperty\u001b[0m\u001b[0;34m\u001b[0m\u001b[0;34m\u001b[0m\u001b[0m\n",
            "\u001b[0;31mNetworkXError\u001b[0m: The node DOS CORRALES is not in the graph."
          ]
        }
      ]
    },
    {
      "cell_type": "code",
      "metadata": {
        "id": "Giwi6xPW7VGh"
      },
      "source": [
        ""
      ],
      "execution_count": null,
      "outputs": []
    },
    {
      "cell_type": "code",
      "metadata": {
        "colab": {
          "base_uri": "https://localhost:8080/",
          "height": 544
        },
        "id": "3WVRwJTVLNID",
        "outputId": "55d1863f-a5f2-4a17-e03c-b3a081c75732"
      },
      "source": [
        "gs.nx2gv(G, weighted=True, params={'size':'30'})"
      ],
      "execution_count": null,
      "outputs": [
        {
          "output_type": "execute_result",
          "data": {
            "text/plain": [
              "<graphviz.dot.Graph at 0x7f2068630190>"
            ],
            "image/svg+xml": "<?xml version=\"1.0\" encoding=\"UTF-8\" standalone=\"no\"?>\n<!DOCTYPE svg PUBLIC \"-//W3C//DTD SVG 1.1//EN\"\n \"http://www.w3.org/Graphics/SVG/1.1/DTD/svg11.dtd\">\n<!-- Generated by graphviz version 2.40.1 (20161225.0304)\n -->\n<!-- Title: G Pages: 1 -->\n<svg width=\"825pt\" height=\"392pt\"\n viewBox=\"0.00 0.00 825.00 392.00\" xmlns=\"http://www.w3.org/2000/svg\" xmlns:xlink=\"http://www.w3.org/1999/xlink\">\n<g id=\"graph0\" class=\"graph\" transform=\"scale(1 1) rotate(0) translate(4 388)\">\n<title>G</title>\n<polygon fill=\"#ffffff\" stroke=\"transparent\" points=\"-4,4 -4,-388 821,-388 821,4 -4,4\"/>\n<!-- ACAPA CANCHA -->\n<g id=\"node1\" class=\"node\">\n<title>ACAPA CANCHA</title>\n<ellipse fill=\"none\" stroke=\"#000000\" cx=\"235\" cy=\"-366\" rx=\"83.6854\" ry=\"18\"/>\n<text text-anchor=\"middle\" x=\"235\" y=\"-362.3\" font-family=\"Times,serif\" font-size=\"14.00\" fill=\"#000000\">ACAPA CANCHA</text>\n</g>\n<!-- MACHALAN -->\n<g id=\"node2\" class=\"node\">\n<title>MACHALAN</title>\n<ellipse fill=\"none\" stroke=\"#000000\" cx=\"351\" cy=\"-279\" rx=\"65.7887\" ry=\"18\"/>\n<text text-anchor=\"middle\" x=\"351\" y=\"-275.3\" font-family=\"Times,serif\" font-size=\"14.00\" fill=\"#000000\">MACHALAN</text>\n</g>\n<!-- ACAPA CANCHA&#45;&#45;MACHALAN -->\n<g id=\"edge1\" class=\"edge\">\n<title>ACAPA CANCHA&#45;&#45;MACHALAN</title>\n<path fill=\"none\" stroke=\"#000000\" d=\"M258.1955,-348.6033C278.5595,-333.3304 308.0069,-311.2448 328.24,-296.07\"/>\n<text text-anchor=\"middle\" x=\"372.5\" y=\"-318.8\" font-family=\"Times,serif\" font-size=\"14.00\" fill=\"#000000\">0.045359073888255684</text>\n</g>\n<!-- MARCAPATA -->\n<g id=\"node3\" class=\"node\">\n<title>MARCAPATA</title>\n<ellipse fill=\"none\" stroke=\"#000000\" cx=\"346\" cy=\"-192\" rx=\"67.6881\" ry=\"18\"/>\n<text text-anchor=\"middle\" x=\"346\" y=\"-188.3\" font-family=\"Times,serif\" font-size=\"14.00\" fill=\"#000000\">MARCAPATA</text>\n</g>\n<!-- ACAPA CANCHA&#45;&#45;MARCAPATA -->\n<g id=\"edge2\" class=\"edge\">\n<title>ACAPA CANCHA&#45;&#45;MARCAPATA</title>\n<path fill=\"none\" stroke=\"#000000\" d=\"M196.9284,-349.7599C156.9889,-330.3684 103.3106,-296.1253 129,-261 148.1947,-234.7549 232.322,-213.7483 290.0077,-202.0847\"/>\n<text text-anchor=\"middle\" x=\"202.5\" y=\"-275.3\" font-family=\"Times,serif\" font-size=\"14.00\" fill=\"#000000\">0.002073886448191726</text>\n</g>\n<!-- PUCURHUAY -->\n<g id=\"node4\" class=\"node\">\n<title>PUCURHUAY</title>\n<ellipse fill=\"none\" stroke=\"#000000\" cx=\"555\" cy=\"-105\" rx=\"68.7879\" ry=\"18\"/>\n<text text-anchor=\"middle\" x=\"555\" y=\"-101.3\" font-family=\"Times,serif\" font-size=\"14.00\" fill=\"#000000\">PUCURHUAY</text>\n</g>\n<!-- ACAPA CANCHA&#45;&#45;PUCURHUAY -->\n<g id=\"edge3\" class=\"edge\">\n<title>ACAPA CANCHA&#45;&#45;PUCURHUAY</title>\n<path fill=\"none\" stroke=\"#000000\" d=\"M312.5942,-359.1169C354.1438,-353.9196 405.737,-345.0135 450,-330 557.699,-293.4698 617.399,-307.4651 676,-210 700.0776,-169.9542 640.443,-137.2488 596.5991,-119.4958\"/>\n<text text-anchor=\"middle\" x=\"740\" y=\"-231.8\" font-family=\"Times,serif\" font-size=\"14.00\" fill=\"#000000\">0.0071693419502745935</text>\n</g>\n<!-- TICLACAYAN -->\n<g id=\"node5\" class=\"node\">\n<title>TICLACAYAN</title>\n<ellipse fill=\"none\" stroke=\"#000000\" cx=\"248\" cy=\"-18\" rx=\"70.3881\" ry=\"18\"/>\n<text text-anchor=\"middle\" x=\"248\" y=\"-14.3\" font-family=\"Times,serif\" font-size=\"14.00\" fill=\"#000000\">TICLACAYAN</text>\n</g>\n<!-- ACAPA CANCHA&#45;&#45;TICLACAYAN -->\n<g id=\"edge4\" class=\"edge\">\n<title>ACAPA CANCHA&#45;&#45;TICLACAYAN</title>\n<path fill=\"none\" stroke=\"#000000\" d=\"M168.914,-354.8144C99.4069,-341.1258 0,-315.2177 0,-279 0,-279 0,-279 0,-105 0,-65.4747 113.5843,-39.6014 187.0147,-27.0046\"/>\n<text text-anchor=\"middle\" x=\"69.5\" y=\"-188.3\" font-family=\"Times,serif\" font-size=\"14.00\" fill=\"#000000\">0.04571003320935836</text>\n</g>\n<!-- MACHALAN&#45;&#45;MARCAPATA -->\n<g id=\"edge5\" class=\"edge\">\n<title>MACHALAN&#45;&#45;MARCAPATA</title>\n<path fill=\"none\" stroke=\"#000000\" d=\"M349.964,-260.9735C349.1059,-246.0422 347.8924,-224.9283 347.0347,-210.0034\"/>\n<text text-anchor=\"middle\" x=\"421.5\" y=\"-231.8\" font-family=\"Times,serif\" font-size=\"14.00\" fill=\"#000000\">0.044762922837997814</text>\n</g>\n<!-- MACHALAN&#45;&#45;PUCURHUAY -->\n<g id=\"edge6\" class=\"edge\">\n<title>MACHALAN&#45;&#45;PUCURHUAY</title>\n<path fill=\"none\" stroke=\"#000000\" d=\"M409.0977,-270.4292C444.4676,-264.1736 485.3863,-254.7477 499,-243 517.8899,-226.6992 540.1264,-156.5413 549.9269,-122.9976\"/>\n<text text-anchor=\"middle\" x=\"602.5\" y=\"-188.3\" font-family=\"Times,serif\" font-size=\"14.00\" fill=\"#000000\">0.04256732427579303</text>\n</g>\n<!-- MACHALAN&#45;&#45;TICLACAYAN -->\n<g id=\"edge7\" class=\"edge\">\n<title>MACHALAN&#45;&#45;TICLACAYAN</title>\n<path fill=\"none\" stroke=\"#000000\" d=\"M309.696,-265.0057C265.0537,-247.3953 196.2457,-212.43 166,-156 142.1706,-111.541 193.0287,-60.9646 224.8737,-35.1459\"/>\n<text text-anchor=\"middle\" x=\"239.5\" y=\"-144.8\" font-family=\"Times,serif\" font-size=\"14.00\" fill=\"#000000\">0.004345047755778001</text>\n</g>\n<!-- MARCAPATA&#45;&#45;PUCURHUAY -->\n<g id=\"edge8\" class=\"edge\">\n<title>MARCAPATA&#45;&#45;PUCURHUAY</title>\n<path fill=\"none\" stroke=\"#000000\" d=\"M347.4205,-173.8223C349.2742,-162.7103 353.486,-149.1174 363,-141 400.3525,-109.1306 423.7702,-132.2061 472,-123 481.8486,-121.1201 492.3213,-118.9689 502.3917,-116.8231\"/>\n<text text-anchor=\"middle\" x=\"436.5\" y=\"-144.8\" font-family=\"Times,serif\" font-size=\"14.00\" fill=\"#000000\">0.005132802061252507</text>\n</g>\n<!-- MARCAPATA&#45;&#45;TICLACAYAN -->\n<g id=\"edge9\" class=\"edge\">\n<title>MARCAPATA&#45;&#45;TICLACAYAN</title>\n<path fill=\"none\" stroke=\"#000000\" d=\"M335.8814,-174.0343C317.0534,-140.605 276.8498,-69.2232 258.0636,-35.868\"/>\n<text text-anchor=\"middle\" x=\"375.5\" y=\"-101.3\" font-family=\"Times,serif\" font-size=\"14.00\" fill=\"#000000\">0.04530596575508504</text>\n</g>\n<!-- PUCURHUAY&#45;&#45;TICLACAYAN -->\n<g id=\"edge10\" class=\"edge\">\n<title>PUCURHUAY&#45;&#45;TICLACAYAN</title>\n<path fill=\"none\" stroke=\"#000000\" d=\"M508.0391,-91.6919C450.3419,-75.3412 353.0178,-47.7608 295.2078,-31.3781\"/>\n<text text-anchor=\"middle\" x=\"488.5\" y=\"-57.8\" font-family=\"Times,serif\" font-size=\"14.00\" fill=\"#000000\">0.04357060706486513</text>\n</g>\n</g>\n</svg>\n"
          },
          "metadata": {
            "tags": []
          },
          "execution_count": 26
        }
      ]
    }
  ]
}